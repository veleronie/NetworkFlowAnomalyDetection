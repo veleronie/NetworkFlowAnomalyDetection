{
  "nbformat": 4,
  "nbformat_minor": 0,
  "metadata": {
    "colab": {
      "provenance": [],
      "mount_file_id": "13AUH_0H3RuAlFzk6RIm2tVtUBhSa-9Tb",
      "authorship_tag": "ABX9TyMqP1bOdBShleJqBzfwV16B",
      "include_colab_link": true
    },
    "kernelspec": {
      "name": "python3",
      "display_name": "Python 3"
    },
    "language_info": {
      "name": "python"
    }
  },
  "cells": [
    {
      "cell_type": "markdown",
      "metadata": {
        "id": "view-in-github",
        "colab_type": "text"
      },
      "source": [
        "<a href=\"https://colab.research.google.com/github/veleronie/WebAttackDetectionModel/blob/main/model_building.ipynb\" target=\"_parent\"><img src=\"https://colab.research.google.com/assets/colab-badge.svg\" alt=\"Open In Colab\"/></a>"
      ]
    },
    {
      "cell_type": "markdown",
      "source": [
        "# ***Network Flow Attack Detection***\n",
        "Training dataset: [CIC-IDS2017](https://www.unb.ca/cic/datasets/ids-2017.html) (Intrusion Detection Evaluation\n",
        "Dataset) created by the Canadian Institute for Cybersecurity at the University of New Brunswick. <br>"
      ],
      "metadata": {
        "id": "l0G6nnQpilfk"
      }
    },
    {
      "cell_type": "markdown",
      "source": [
        "##***Preprocessing***"
      ],
      "metadata": {
        "id": "lRGZooiXkvMM"
      }
    },
    {
      "cell_type": "code",
      "source": [
        "import os\n",
        "import random\n",
        "import numpy as np\n",
        "import pandas as pd\n",
        "import pickle\n",
        "import matplotlib.pyplot as plt\n",
        "from sklearn import preprocessing\n",
        "%matplotlib inline\n",
        "\n",
        "path = os.getcwd()\n",
        "path_to_datasets = path + r'/drive/MyDrive/AnomalyDetection/IDS2017/TrafficLabelling'\n",
        "all_files = os.listdir(path_to_datasets)    \n",
        "csv_files = list(filter(lambda f: f.endswith('.csv'), all_files))\n",
        "csv_files"
      ],
      "metadata": {
        "colab": {
          "base_uri": "https://localhost:8080/"
        },
        "id": "EsEgGD_Wk65j",
        "outputId": "d670b516-135d-4244-ff80-9a4b2976e0d3"
      },
      "execution_count": 1,
      "outputs": [
        {
          "output_type": "execute_result",
          "data": {
            "text/plain": [
              "['Monday-WorkingHours.pcap_ISCX.csv',\n",
              " 'Wednesday-workingHours.pcap_ISCX.csv',\n",
              " 'Tuesday-WorkingHours.pcap_ISCX.csv',\n",
              " 'Thursday-WorkingHours-Morning-WebAttacks.pcap_ISCX.csv',\n",
              " 'Friday-WorkingHours-Afternoon-PortScan.pcap_ISCX.csv',\n",
              " 'Thursday-WorkingHours-Afternoon-Infilteration.pcap_ISCX.csv',\n",
              " 'Friday-WorkingHours-Morning.pcap_ISCX.csv',\n",
              " 'Friday-WorkingHours-Afternoon-DDos.pcap_ISCX.csv']"
            ]
          },
          "metadata": {},
          "execution_count": 1
        }
      ]
    },
    {
      "cell_type": "code",
      "source": [
        "for i in range(len(csv_files)):\n",
        "    with open(path_to_datasets + r'/' + csv_files[i], encoding=\"utf8\", errors='ignore') as file:\n",
        "        df = pd.read_csv(file, low_memory=False)\n",
        "    df.columns = df.columns.str.strip()\n",
        "    print(csv_files[i], df.shape)\n",
        "    print(df['Label'].value_counts(), '\\n')"
      ],
      "metadata": {
        "colab": {
          "base_uri": "https://localhost:8080/"
        },
        "id": "a4hPc653n74R",
        "outputId": "041d4639-faf3-47d8-d91a-c09dd6563389"
      },
      "execution_count": 2,
      "outputs": [
        {
          "output_type": "stream",
          "name": "stdout",
          "text": [
            "Monday-WorkingHours.pcap_ISCX.csv (529918, 85)\n",
            "BENIGN    529918\n",
            "Name: Label, dtype: int64 \n",
            "\n",
            "Wednesday-workingHours.pcap_ISCX.csv (692703, 85)\n",
            "BENIGN              440031\n",
            "DoS Hulk            231073\n",
            "DoS GoldenEye        10293\n",
            "DoS slowloris         5796\n",
            "DoS Slowhttptest      5499\n",
            "Heartbleed              11\n",
            "Name: Label, dtype: int64 \n",
            "\n",
            "Tuesday-WorkingHours.pcap_ISCX.csv (445909, 85)\n",
            "BENIGN         432074\n",
            "FTP-Patator      7938\n",
            "SSH-Patator      5897\n",
            "Name: Label, dtype: int64 \n",
            "\n",
            "Thursday-WorkingHours-Morning-WebAttacks.pcap_ISCX.csv (458968, 85)\n",
            "BENIGN                       168186\n",
            "Web Attack  Brute Force        1507\n",
            "Web Attack  XSS                 652\n",
            "Web Attack  Sql Injection        21\n",
            "Name: Label, dtype: int64 \n",
            "\n",
            "Friday-WorkingHours-Afternoon-PortScan.pcap_ISCX.csv (286467, 85)\n",
            "PortScan    158930\n",
            "BENIGN      127537\n",
            "Name: Label, dtype: int64 \n",
            "\n",
            "Thursday-WorkingHours-Afternoon-Infilteration.pcap_ISCX.csv (288602, 85)\n",
            "BENIGN          288566\n",
            "Infiltration        36\n",
            "Name: Label, dtype: int64 \n",
            "\n",
            "Friday-WorkingHours-Morning.pcap_ISCX.csv (191033, 85)\n",
            "BENIGN    189067\n",
            "Bot         1966\n",
            "Name: Label, dtype: int64 \n",
            "\n",
            "Friday-WorkingHours-Afternoon-DDos.pcap_ISCX.csv (225745, 85)\n",
            "DDoS      128027\n",
            "BENIGN     97718\n",
            "Name: Label, dtype: int64 \n",
            "\n"
          ]
        }
      ]
    },
    {
      "cell_type": "markdown",
      "source": [
        "In order to reduce computational time and resourses, the only class of computer attacks was left to conduct the experements on - web attacks (Brute Force, XSS, SQL injection). For this purpose, there was used a web_attacks file, which was prepared on the basis of processing the file Thursday-WorkingHours-Morning-WebAttacks.pcap_ISCX.csv, containing 458968 entries, of which 2180 are related to web attacks, and the rest is labeled as benign traffic.\n",
        "Each entry in the WebAttacks dataset represents a network session and is characterized by 84 features."
      ],
      "metadata": {
        "id": "pU_HfmahsEJg"
      }
    },
    {
      "cell_type": "code",
      "source": [
        "with open(path_to_datasets + r'/' + 'Thursday-WorkingHours-Morning-WebAttacks.pcap_ISCX.csv', encoding=\"utf8\", errors='ignore') as file:\n",
        "      df = pd.read_csv(file, engine='python')\n",
        "df.columns = df.columns.str.strip()\n",
        "df.columns"
      ],
      "metadata": {
        "id": "VzqXcc5suDoV",
        "colab": {
          "base_uri": "https://localhost:8080/"
        },
        "outputId": "8adee9d9-3272-4396-d3f3-6658e4cade89"
      },
      "execution_count": 3,
      "outputs": [
        {
          "output_type": "execute_result",
          "data": {
            "text/plain": [
              "Index(['Flow ID', 'Source IP', 'Source Port', 'Destination IP',\n",
              "       'Destination Port', 'Protocol', 'Timestamp', 'Flow Duration',\n",
              "       'Total Fwd Packets', 'Total Backward Packets',\n",
              "       'Total Length of Fwd Packets', 'Total Length of Bwd Packets',\n",
              "       'Fwd Packet Length Max', 'Fwd Packet Length Min',\n",
              "       'Fwd Packet Length Mean', 'Fwd Packet Length Std',\n",
              "       'Bwd Packet Length Max', 'Bwd Packet Length Min',\n",
              "       'Bwd Packet Length Mean', 'Bwd Packet Length Std', 'Flow Bytes/s',\n",
              "       'Flow Packets/s', 'Flow IAT Mean', 'Flow IAT Std', 'Flow IAT Max',\n",
              "       'Flow IAT Min', 'Fwd IAT Total', 'Fwd IAT Mean', 'Fwd IAT Std',\n",
              "       'Fwd IAT Max', 'Fwd IAT Min', 'Bwd IAT Total', 'Bwd IAT Mean',\n",
              "       'Bwd IAT Std', 'Bwd IAT Max', 'Bwd IAT Min', 'Fwd PSH Flags',\n",
              "       'Bwd PSH Flags', 'Fwd URG Flags', 'Bwd URG Flags', 'Fwd Header Length',\n",
              "       'Bwd Header Length', 'Fwd Packets/s', 'Bwd Packets/s',\n",
              "       'Min Packet Length', 'Max Packet Length', 'Packet Length Mean',\n",
              "       'Packet Length Std', 'Packet Length Variance', 'FIN Flag Count',\n",
              "       'SYN Flag Count', 'RST Flag Count', 'PSH Flag Count', 'ACK Flag Count',\n",
              "       'URG Flag Count', 'CWE Flag Count', 'ECE Flag Count', 'Down/Up Ratio',\n",
              "       'Average Packet Size', 'Avg Fwd Segment Size', 'Avg Bwd Segment Size',\n",
              "       'Fwd Header Length.1', 'Fwd Avg Bytes/Bulk', 'Fwd Avg Packets/Bulk',\n",
              "       'Fwd Avg Bulk Rate', 'Bwd Avg Bytes/Bulk', 'Bwd Avg Packets/Bulk',\n",
              "       'Bwd Avg Bulk Rate', 'Subflow Fwd Packets', 'Subflow Fwd Bytes',\n",
              "       'Subflow Bwd Packets', 'Subflow Bwd Bytes', 'Init_Win_bytes_forward',\n",
              "       'Init_Win_bytes_backward', 'act_data_pkt_fwd', 'min_seg_size_forward',\n",
              "       'Active Mean', 'Active Std', 'Active Max', 'Active Min', 'Idle Mean',\n",
              "       'Idle Std', 'Idle Max', 'Idle Min', 'Label'],\n",
              "      dtype='object')"
            ]
          },
          "metadata": {},
          "execution_count": 3
        }
      ]
    },
    {
      "cell_type": "markdown",
      "source": [
        "Let's see if the dataset contains NaN values."
      ],
      "metadata": {
        "id": "G6XCvu-5ipkL"
      }
    },
    {
      "cell_type": "code",
      "source": [
        "df['Flow ID']"
      ],
      "metadata": {
        "colab": {
          "base_uri": "https://localhost:8080/"
        },
        "id": "UYl6RDHJzurh",
        "outputId": "504a30f1-0548-4007-85fc-5f85004cb576"
      },
      "execution_count": 4,
      "outputs": [
        {
          "output_type": "execute_result",
          "data": {
            "text/plain": [
              "0         192.168.10.3-192.168.10.50-389-33898-6\n",
              "1         192.168.10.3-192.168.10.50-389-33904-6\n",
              "2                          8.0.6.4-8.6.0.1-0-0-0\n",
              "3         192.168.10.14-65.55.44.109-59135-443-6\n",
              "4         192.168.10.3-192.168.10.14-53-59555-17\n",
              "                           ...                  \n",
              "458963                                       NaN\n",
              "458964                                       NaN\n",
              "458965                                       NaN\n",
              "458966                                       NaN\n",
              "458967                                       NaN\n",
              "Name: Flow ID, Length: 458968, dtype: object"
            ]
          },
          "metadata": {},
          "execution_count": 4
        }
      ]
    },
    {
      "cell_type": "code",
      "source": [
        "df['Flow ID'].isna().sum()"
      ],
      "metadata": {
        "colab": {
          "base_uri": "https://localhost:8080/"
        },
        "id": "cTrN1K-bzzJp",
        "outputId": "ea2f14fd-4014-48e5-a3ce-31db97c8876d"
      },
      "execution_count": 5,
      "outputs": [
        {
          "output_type": "execute_result",
          "data": {
            "text/plain": [
              "288602"
            ]
          },
          "metadata": {},
          "execution_count": 5
        }
      ]
    },
    {
      "cell_type": "markdown",
      "source": [
        "We need to drop 288602 records with NaN values in the Flow ID column."
      ],
      "metadata": {
        "id": "-kkN6y9rpDzg"
      }
    },
    {
      "cell_type": "code",
      "source": [
        "df[pd.isnull(df['Flow ID'])].index"
      ],
      "metadata": {
        "colab": {
          "base_uri": "https://localhost:8080/"
        },
        "id": "ODsTD9BG0DnY",
        "outputId": "c28fae69-cba7-465a-9e93-459089b40178"
      },
      "execution_count": 6,
      "outputs": [
        {
          "output_type": "execute_result",
          "data": {
            "text/plain": [
              "Int64Index([170366, 170367, 170368, 170369, 170370, 170371, 170372, 170373,\n",
              "            170374, 170375,\n",
              "            ...\n",
              "            458958, 458959, 458960, 458961, 458962, 458963, 458964, 458965,\n",
              "            458966, 458967],\n",
              "           dtype='int64', length=288602)"
            ]
          },
          "metadata": {},
          "execution_count": 6
        }
      ]
    },
    {
      "cell_type": "markdown",
      "source": [
        "Seems like there are empty records after the index 170366. We need to remove all of them to continue preprocessing."
      ],
      "metadata": {
        "id": "60W5HMx7i6tX"
      }
    },
    {
      "cell_type": "code",
      "source": [
        "df = df.drop(df[pd.isnull(df['Flow ID'])].index)\n",
        "df.shape"
      ],
      "metadata": {
        "colab": {
          "base_uri": "https://localhost:8080/"
        },
        "id": "Ob7CzZeb0o4G",
        "outputId": "ce6508c3-0d4a-4dbf-a73c-d0d466689315"
      },
      "execution_count": 7,
      "outputs": [
        {
          "output_type": "execute_result",
          "data": {
            "text/plain": [
              "(170366, 85)"
            ]
          },
          "metadata": {},
          "execution_count": 7
        }
      ]
    },
    {
      "cell_type": "markdown",
      "source": [
        "Columns 'Fwd Header Length' 'Fwd Header Length.1' have the same data."
      ],
      "metadata": {
        "id": "jF9D56LdsvD0"
      }
    },
    {
      "cell_type": "code",
      "source": [
        "df.loc[:, ['Fwd Header Length', 'Fwd Header Length.1' ]] "
      ],
      "metadata": {
        "colab": {
          "base_uri": "https://localhost:8080/",
          "height": 424
        },
        "id": "lZZPvf8hsKQV",
        "outputId": "f0ec9e4a-2a23-4b49-c1a4-45df6912c833"
      },
      "execution_count": 8,
      "outputs": [
        {
          "output_type": "execute_result",
          "data": {
            "text/plain": [
              "        Fwd Header Length  Fwd Header Length.1\n",
              "0                  1536.0               1536.0\n",
              "1                  2176.0               2176.0\n",
              "2                     0.0                  0.0\n",
              "3                   192.0                192.0\n",
              "4                    64.0                 64.0\n",
              "...                   ...                  ...\n",
              "170361               20.0                 20.0\n",
              "170362               64.0                 64.0\n",
              "170363             1328.0               1328.0\n",
              "170364               32.0                 32.0\n",
              "170365               32.0                 32.0\n",
              "\n",
              "[170366 rows x 2 columns]"
            ],
            "text/html": [
              "\n",
              "  <div id=\"df-87937c0f-e244-4280-8c1c-8f28cfee6041\">\n",
              "    <div class=\"colab-df-container\">\n",
              "      <div>\n",
              "<style scoped>\n",
              "    .dataframe tbody tr th:only-of-type {\n",
              "        vertical-align: middle;\n",
              "    }\n",
              "\n",
              "    .dataframe tbody tr th {\n",
              "        vertical-align: top;\n",
              "    }\n",
              "\n",
              "    .dataframe thead th {\n",
              "        text-align: right;\n",
              "    }\n",
              "</style>\n",
              "<table border=\"1\" class=\"dataframe\">\n",
              "  <thead>\n",
              "    <tr style=\"text-align: right;\">\n",
              "      <th></th>\n",
              "      <th>Fwd Header Length</th>\n",
              "      <th>Fwd Header Length.1</th>\n",
              "    </tr>\n",
              "  </thead>\n",
              "  <tbody>\n",
              "    <tr>\n",
              "      <th>0</th>\n",
              "      <td>1536.0</td>\n",
              "      <td>1536.0</td>\n",
              "    </tr>\n",
              "    <tr>\n",
              "      <th>1</th>\n",
              "      <td>2176.0</td>\n",
              "      <td>2176.0</td>\n",
              "    </tr>\n",
              "    <tr>\n",
              "      <th>2</th>\n",
              "      <td>0.0</td>\n",
              "      <td>0.0</td>\n",
              "    </tr>\n",
              "    <tr>\n",
              "      <th>3</th>\n",
              "      <td>192.0</td>\n",
              "      <td>192.0</td>\n",
              "    </tr>\n",
              "    <tr>\n",
              "      <th>4</th>\n",
              "      <td>64.0</td>\n",
              "      <td>64.0</td>\n",
              "    </tr>\n",
              "    <tr>\n",
              "      <th>...</th>\n",
              "      <td>...</td>\n",
              "      <td>...</td>\n",
              "    </tr>\n",
              "    <tr>\n",
              "      <th>170361</th>\n",
              "      <td>20.0</td>\n",
              "      <td>20.0</td>\n",
              "    </tr>\n",
              "    <tr>\n",
              "      <th>170362</th>\n",
              "      <td>64.0</td>\n",
              "      <td>64.0</td>\n",
              "    </tr>\n",
              "    <tr>\n",
              "      <th>170363</th>\n",
              "      <td>1328.0</td>\n",
              "      <td>1328.0</td>\n",
              "    </tr>\n",
              "    <tr>\n",
              "      <th>170364</th>\n",
              "      <td>32.0</td>\n",
              "      <td>32.0</td>\n",
              "    </tr>\n",
              "    <tr>\n",
              "      <th>170365</th>\n",
              "      <td>32.0</td>\n",
              "      <td>32.0</td>\n",
              "    </tr>\n",
              "  </tbody>\n",
              "</table>\n",
              "<p>170366 rows × 2 columns</p>\n",
              "</div>\n",
              "      <button class=\"colab-df-convert\" onclick=\"convertToInteractive('df-87937c0f-e244-4280-8c1c-8f28cfee6041')\"\n",
              "              title=\"Convert this dataframe to an interactive table.\"\n",
              "              style=\"display:none;\">\n",
              "        \n",
              "  <svg xmlns=\"http://www.w3.org/2000/svg\" height=\"24px\"viewBox=\"0 0 24 24\"\n",
              "       width=\"24px\">\n",
              "    <path d=\"M0 0h24v24H0V0z\" fill=\"none\"/>\n",
              "    <path d=\"M18.56 5.44l.94 2.06.94-2.06 2.06-.94-2.06-.94-.94-2.06-.94 2.06-2.06.94zm-11 1L8.5 8.5l.94-2.06 2.06-.94-2.06-.94L8.5 2.5l-.94 2.06-2.06.94zm10 10l.94 2.06.94-2.06 2.06-.94-2.06-.94-.94-2.06-.94 2.06-2.06.94z\"/><path d=\"M17.41 7.96l-1.37-1.37c-.4-.4-.92-.59-1.43-.59-.52 0-1.04.2-1.43.59L10.3 9.45l-7.72 7.72c-.78.78-.78 2.05 0 2.83L4 21.41c.39.39.9.59 1.41.59.51 0 1.02-.2 1.41-.59l7.78-7.78 2.81-2.81c.8-.78.8-2.07 0-2.86zM5.41 20L4 18.59l7.72-7.72 1.47 1.35L5.41 20z\"/>\n",
              "  </svg>\n",
              "      </button>\n",
              "      \n",
              "  <style>\n",
              "    .colab-df-container {\n",
              "      display:flex;\n",
              "      flex-wrap:wrap;\n",
              "      gap: 12px;\n",
              "    }\n",
              "\n",
              "    .colab-df-convert {\n",
              "      background-color: #E8F0FE;\n",
              "      border: none;\n",
              "      border-radius: 50%;\n",
              "      cursor: pointer;\n",
              "      display: none;\n",
              "      fill: #1967D2;\n",
              "      height: 32px;\n",
              "      padding: 0 0 0 0;\n",
              "      width: 32px;\n",
              "    }\n",
              "\n",
              "    .colab-df-convert:hover {\n",
              "      background-color: #E2EBFA;\n",
              "      box-shadow: 0px 1px 2px rgba(60, 64, 67, 0.3), 0px 1px 3px 1px rgba(60, 64, 67, 0.15);\n",
              "      fill: #174EA6;\n",
              "    }\n",
              "\n",
              "    [theme=dark] .colab-df-convert {\n",
              "      background-color: #3B4455;\n",
              "      fill: #D2E3FC;\n",
              "    }\n",
              "\n",
              "    [theme=dark] .colab-df-convert:hover {\n",
              "      background-color: #434B5C;\n",
              "      box-shadow: 0px 1px 3px 1px rgba(0, 0, 0, 0.15);\n",
              "      filter: drop-shadow(0px 1px 2px rgba(0, 0, 0, 0.3));\n",
              "      fill: #FFFFFF;\n",
              "    }\n",
              "  </style>\n",
              "\n",
              "      <script>\n",
              "        const buttonEl =\n",
              "          document.querySelector('#df-87937c0f-e244-4280-8c1c-8f28cfee6041 button.colab-df-convert');\n",
              "        buttonEl.style.display =\n",
              "          google.colab.kernel.accessAllowed ? 'block' : 'none';\n",
              "\n",
              "        async function convertToInteractive(key) {\n",
              "          const element = document.querySelector('#df-87937c0f-e244-4280-8c1c-8f28cfee6041');\n",
              "          const dataTable =\n",
              "            await google.colab.kernel.invokeFunction('convertToInteractive',\n",
              "                                                     [key], {});\n",
              "          if (!dataTable) return;\n",
              "\n",
              "          const docLinkHtml = 'Like what you see? Visit the ' +\n",
              "            '<a target=\"_blank\" href=https://colab.research.google.com/notebooks/data_table.ipynb>data table notebook</a>'\n",
              "            + ' to learn more about interactive tables.';\n",
              "          element.innerHTML = '';\n",
              "          dataTable['output_type'] = 'display_data';\n",
              "          await google.colab.output.renderOutput(dataTable, element);\n",
              "          const docLink = document.createElement('div');\n",
              "          docLink.innerHTML = docLinkHtml;\n",
              "          element.appendChild(docLink);\n",
              "        }\n",
              "      </script>\n",
              "    </div>\n",
              "  </div>\n",
              "  "
            ]
          },
          "metadata": {},
          "execution_count": 8
        }
      ]
    },
    {
      "cell_type": "markdown",
      "source": [
        "The next step is to remove duplicated columns and clean NaN values."
      ],
      "metadata": {
        "id": "8URpNwETuDZL"
      }
    },
    {
      "cell_type": "code",
      "source": [
        "df = df.drop(columns=['Fwd Header Length.1'])\n",
        "df.shape"
      ],
      "metadata": {
        "colab": {
          "base_uri": "https://localhost:8080/"
        },
        "id": "EBrz-jBWuLWC",
        "outputId": "4137777a-66a2-46c3-dd80-e054cb3dc35f"
      },
      "execution_count": 9,
      "outputs": [
        {
          "output_type": "execute_result",
          "data": {
            "text/plain": [
              "(170366, 84)"
            ]
          },
          "metadata": {},
          "execution_count": 9
        }
      ]
    },
    {
      "cell_type": "code",
      "source": [
        "df.head()"
      ],
      "metadata": {
        "colab": {
          "base_uri": "https://localhost:8080/",
          "height": 421
        },
        "id": "y3GzHj8ozeOe",
        "outputId": "9e118683-5c5e-4b1c-8405-1fea6aad03cb"
      },
      "execution_count": 10,
      "outputs": [
        {
          "output_type": "execute_result",
          "data": {
            "text/plain": [
              "                                  Flow ID      Source IP  Source Port  \\\n",
              "0  192.168.10.3-192.168.10.50-389-33898-6  192.168.10.50      33898.0   \n",
              "1  192.168.10.3-192.168.10.50-389-33904-6  192.168.10.50      33904.0   \n",
              "2                   8.0.6.4-8.6.0.1-0-0-0        8.6.0.1          0.0   \n",
              "3  192.168.10.14-65.55.44.109-59135-443-6  192.168.10.14      59135.0   \n",
              "4  192.168.10.3-192.168.10.14-53-59555-17  192.168.10.14      59555.0   \n",
              "\n",
              "  Destination IP  Destination Port  Protocol      Timestamp  Flow Duration  \\\n",
              "0   192.168.10.3             389.0       6.0  6/7/2017 8:59    113095465.0   \n",
              "1   192.168.10.3             389.0       6.0  6/7/2017 8:59    113473706.0   \n",
              "2        8.0.6.4               0.0       0.0  6/7/2017 8:59    119945515.0   \n",
              "3   65.55.44.109             443.0       6.0  6/7/2017 8:59     60261928.0   \n",
              "4   192.168.10.3              53.0      17.0  6/7/2017 8:59          269.0   \n",
              "\n",
              "   Total Fwd Packets  Total Backward Packets  ...  min_seg_size_forward  \\\n",
              "0               48.0                    24.0  ...                  32.0   \n",
              "1               68.0                    40.0  ...                  32.0   \n",
              "2              150.0                     0.0  ...                   0.0   \n",
              "3                9.0                     7.0  ...                  20.0   \n",
              "4                2.0                     2.0  ...                  32.0   \n",
              "\n",
              "   Active Mean    Active Std  Active Max  Active Min   Idle Mean  \\\n",
              "0   203985.500  5.758373e+05   1629110.0       379.0  13800000.0   \n",
              "1   178326.875  5.034269e+05   1424245.0       325.0  13800000.0   \n",
              "2  6909777.333  1.170000e+07  20400000.0         6.0  24400000.0   \n",
              "3        0.000  0.000000e+00         0.0         0.0         0.0   \n",
              "4        0.000  0.000000e+00         0.0         0.0         0.0   \n",
              "\n",
              "       Idle Std    Idle Max   Idle Min   Label  \n",
              "0  4.277541e+06  16500000.0  6737603.0  BENIGN  \n",
              "1  4.229413e+06  16500000.0  6945512.0  BENIGN  \n",
              "2  2.430000e+07  60100000.0  5702188.0  BENIGN  \n",
              "3  0.000000e+00         0.0        0.0  BENIGN  \n",
              "4  0.000000e+00         0.0        0.0  BENIGN  \n",
              "\n",
              "[5 rows x 84 columns]"
            ],
            "text/html": [
              "\n",
              "  <div id=\"df-620c92ff-4463-473c-8f4d-11532e9f30b5\">\n",
              "    <div class=\"colab-df-container\">\n",
              "      <div>\n",
              "<style scoped>\n",
              "    .dataframe tbody tr th:only-of-type {\n",
              "        vertical-align: middle;\n",
              "    }\n",
              "\n",
              "    .dataframe tbody tr th {\n",
              "        vertical-align: top;\n",
              "    }\n",
              "\n",
              "    .dataframe thead th {\n",
              "        text-align: right;\n",
              "    }\n",
              "</style>\n",
              "<table border=\"1\" class=\"dataframe\">\n",
              "  <thead>\n",
              "    <tr style=\"text-align: right;\">\n",
              "      <th></th>\n",
              "      <th>Flow ID</th>\n",
              "      <th>Source IP</th>\n",
              "      <th>Source Port</th>\n",
              "      <th>Destination IP</th>\n",
              "      <th>Destination Port</th>\n",
              "      <th>Protocol</th>\n",
              "      <th>Timestamp</th>\n",
              "      <th>Flow Duration</th>\n",
              "      <th>Total Fwd Packets</th>\n",
              "      <th>Total Backward Packets</th>\n",
              "      <th>...</th>\n",
              "      <th>min_seg_size_forward</th>\n",
              "      <th>Active Mean</th>\n",
              "      <th>Active Std</th>\n",
              "      <th>Active Max</th>\n",
              "      <th>Active Min</th>\n",
              "      <th>Idle Mean</th>\n",
              "      <th>Idle Std</th>\n",
              "      <th>Idle Max</th>\n",
              "      <th>Idle Min</th>\n",
              "      <th>Label</th>\n",
              "    </tr>\n",
              "  </thead>\n",
              "  <tbody>\n",
              "    <tr>\n",
              "      <th>0</th>\n",
              "      <td>192.168.10.3-192.168.10.50-389-33898-6</td>\n",
              "      <td>192.168.10.50</td>\n",
              "      <td>33898.0</td>\n",
              "      <td>192.168.10.3</td>\n",
              "      <td>389.0</td>\n",
              "      <td>6.0</td>\n",
              "      <td>6/7/2017 8:59</td>\n",
              "      <td>113095465.0</td>\n",
              "      <td>48.0</td>\n",
              "      <td>24.0</td>\n",
              "      <td>...</td>\n",
              "      <td>32.0</td>\n",
              "      <td>203985.500</td>\n",
              "      <td>5.758373e+05</td>\n",
              "      <td>1629110.0</td>\n",
              "      <td>379.0</td>\n",
              "      <td>13800000.0</td>\n",
              "      <td>4.277541e+06</td>\n",
              "      <td>16500000.0</td>\n",
              "      <td>6737603.0</td>\n",
              "      <td>BENIGN</td>\n",
              "    </tr>\n",
              "    <tr>\n",
              "      <th>1</th>\n",
              "      <td>192.168.10.3-192.168.10.50-389-33904-6</td>\n",
              "      <td>192.168.10.50</td>\n",
              "      <td>33904.0</td>\n",
              "      <td>192.168.10.3</td>\n",
              "      <td>389.0</td>\n",
              "      <td>6.0</td>\n",
              "      <td>6/7/2017 8:59</td>\n",
              "      <td>113473706.0</td>\n",
              "      <td>68.0</td>\n",
              "      <td>40.0</td>\n",
              "      <td>...</td>\n",
              "      <td>32.0</td>\n",
              "      <td>178326.875</td>\n",
              "      <td>5.034269e+05</td>\n",
              "      <td>1424245.0</td>\n",
              "      <td>325.0</td>\n",
              "      <td>13800000.0</td>\n",
              "      <td>4.229413e+06</td>\n",
              "      <td>16500000.0</td>\n",
              "      <td>6945512.0</td>\n",
              "      <td>BENIGN</td>\n",
              "    </tr>\n",
              "    <tr>\n",
              "      <th>2</th>\n",
              "      <td>8.0.6.4-8.6.0.1-0-0-0</td>\n",
              "      <td>8.6.0.1</td>\n",
              "      <td>0.0</td>\n",
              "      <td>8.0.6.4</td>\n",
              "      <td>0.0</td>\n",
              "      <td>0.0</td>\n",
              "      <td>6/7/2017 8:59</td>\n",
              "      <td>119945515.0</td>\n",
              "      <td>150.0</td>\n",
              "      <td>0.0</td>\n",
              "      <td>...</td>\n",
              "      <td>0.0</td>\n",
              "      <td>6909777.333</td>\n",
              "      <td>1.170000e+07</td>\n",
              "      <td>20400000.0</td>\n",
              "      <td>6.0</td>\n",
              "      <td>24400000.0</td>\n",
              "      <td>2.430000e+07</td>\n",
              "      <td>60100000.0</td>\n",
              "      <td>5702188.0</td>\n",
              "      <td>BENIGN</td>\n",
              "    </tr>\n",
              "    <tr>\n",
              "      <th>3</th>\n",
              "      <td>192.168.10.14-65.55.44.109-59135-443-6</td>\n",
              "      <td>192.168.10.14</td>\n",
              "      <td>59135.0</td>\n",
              "      <td>65.55.44.109</td>\n",
              "      <td>443.0</td>\n",
              "      <td>6.0</td>\n",
              "      <td>6/7/2017 8:59</td>\n",
              "      <td>60261928.0</td>\n",
              "      <td>9.0</td>\n",
              "      <td>7.0</td>\n",
              "      <td>...</td>\n",
              "      <td>20.0</td>\n",
              "      <td>0.000</td>\n",
              "      <td>0.000000e+00</td>\n",
              "      <td>0.0</td>\n",
              "      <td>0.0</td>\n",
              "      <td>0.0</td>\n",
              "      <td>0.000000e+00</td>\n",
              "      <td>0.0</td>\n",
              "      <td>0.0</td>\n",
              "      <td>BENIGN</td>\n",
              "    </tr>\n",
              "    <tr>\n",
              "      <th>4</th>\n",
              "      <td>192.168.10.3-192.168.10.14-53-59555-17</td>\n",
              "      <td>192.168.10.14</td>\n",
              "      <td>59555.0</td>\n",
              "      <td>192.168.10.3</td>\n",
              "      <td>53.0</td>\n",
              "      <td>17.0</td>\n",
              "      <td>6/7/2017 8:59</td>\n",
              "      <td>269.0</td>\n",
              "      <td>2.0</td>\n",
              "      <td>2.0</td>\n",
              "      <td>...</td>\n",
              "      <td>32.0</td>\n",
              "      <td>0.000</td>\n",
              "      <td>0.000000e+00</td>\n",
              "      <td>0.0</td>\n",
              "      <td>0.0</td>\n",
              "      <td>0.0</td>\n",
              "      <td>0.000000e+00</td>\n",
              "      <td>0.0</td>\n",
              "      <td>0.0</td>\n",
              "      <td>BENIGN</td>\n",
              "    </tr>\n",
              "  </tbody>\n",
              "</table>\n",
              "<p>5 rows × 84 columns</p>\n",
              "</div>\n",
              "      <button class=\"colab-df-convert\" onclick=\"convertToInteractive('df-620c92ff-4463-473c-8f4d-11532e9f30b5')\"\n",
              "              title=\"Convert this dataframe to an interactive table.\"\n",
              "              style=\"display:none;\">\n",
              "        \n",
              "  <svg xmlns=\"http://www.w3.org/2000/svg\" height=\"24px\"viewBox=\"0 0 24 24\"\n",
              "       width=\"24px\">\n",
              "    <path d=\"M0 0h24v24H0V0z\" fill=\"none\"/>\n",
              "    <path d=\"M18.56 5.44l.94 2.06.94-2.06 2.06-.94-2.06-.94-.94-2.06-.94 2.06-2.06.94zm-11 1L8.5 8.5l.94-2.06 2.06-.94-2.06-.94L8.5 2.5l-.94 2.06-2.06.94zm10 10l.94 2.06.94-2.06 2.06-.94-2.06-.94-.94-2.06-.94 2.06-2.06.94z\"/><path d=\"M17.41 7.96l-1.37-1.37c-.4-.4-.92-.59-1.43-.59-.52 0-1.04.2-1.43.59L10.3 9.45l-7.72 7.72c-.78.78-.78 2.05 0 2.83L4 21.41c.39.39.9.59 1.41.59.51 0 1.02-.2 1.41-.59l7.78-7.78 2.81-2.81c.8-.78.8-2.07 0-2.86zM5.41 20L4 18.59l7.72-7.72 1.47 1.35L5.41 20z\"/>\n",
              "  </svg>\n",
              "      </button>\n",
              "      \n",
              "  <style>\n",
              "    .colab-df-container {\n",
              "      display:flex;\n",
              "      flex-wrap:wrap;\n",
              "      gap: 12px;\n",
              "    }\n",
              "\n",
              "    .colab-df-convert {\n",
              "      background-color: #E8F0FE;\n",
              "      border: none;\n",
              "      border-radius: 50%;\n",
              "      cursor: pointer;\n",
              "      display: none;\n",
              "      fill: #1967D2;\n",
              "      height: 32px;\n",
              "      padding: 0 0 0 0;\n",
              "      width: 32px;\n",
              "    }\n",
              "\n",
              "    .colab-df-convert:hover {\n",
              "      background-color: #E2EBFA;\n",
              "      box-shadow: 0px 1px 2px rgba(60, 64, 67, 0.3), 0px 1px 3px 1px rgba(60, 64, 67, 0.15);\n",
              "      fill: #174EA6;\n",
              "    }\n",
              "\n",
              "    [theme=dark] .colab-df-convert {\n",
              "      background-color: #3B4455;\n",
              "      fill: #D2E3FC;\n",
              "    }\n",
              "\n",
              "    [theme=dark] .colab-df-convert:hover {\n",
              "      background-color: #434B5C;\n",
              "      box-shadow: 0px 1px 3px 1px rgba(0, 0, 0, 0.15);\n",
              "      filter: drop-shadow(0px 1px 2px rgba(0, 0, 0, 0.3));\n",
              "      fill: #FFFFFF;\n",
              "    }\n",
              "  </style>\n",
              "\n",
              "      <script>\n",
              "        const buttonEl =\n",
              "          document.querySelector('#df-620c92ff-4463-473c-8f4d-11532e9f30b5 button.colab-df-convert');\n",
              "        buttonEl.style.display =\n",
              "          google.colab.kernel.accessAllowed ? 'block' : 'none';\n",
              "\n",
              "        async function convertToInteractive(key) {\n",
              "          const element = document.querySelector('#df-620c92ff-4463-473c-8f4d-11532e9f30b5');\n",
              "          const dataTable =\n",
              "            await google.colab.kernel.invokeFunction('convertToInteractive',\n",
              "                                                     [key], {});\n",
              "          if (!dataTable) return;\n",
              "\n",
              "          const docLinkHtml = 'Like what you see? Visit the ' +\n",
              "            '<a target=\"_blank\" href=https://colab.research.google.com/notebooks/data_table.ipynb>data table notebook</a>'\n",
              "            + ' to learn more about interactive tables.';\n",
              "          element.innerHTML = '';\n",
              "          dataTable['output_type'] = 'display_data';\n",
              "          await google.colab.output.renderOutput(dataTable, element);\n",
              "          const docLink = document.createElement('div');\n",
              "          docLink.innerHTML = docLinkHtml;\n",
              "          element.appendChild(docLink);\n",
              "        }\n",
              "      </script>\n",
              "    </div>\n",
              "  </div>\n",
              "  "
            ]
          },
          "metadata": {},
          "execution_count": 10
        }
      ]
    },
    {
      "cell_type": "code",
      "source": [
        "columns_with_missing_values = set(df.columns[df.isnull().any()])\n",
        "non_numeric_features = list(df.select_dtypes(include=['object']).columns)\n",
        "for column in columns_with_missing_values:\n",
        "  if column not in non_numeric_features:\n",
        "    df[column].fillna(0, inplace = True)\n",
        "    df.replace([np.inf, -np.inf, np.nan], -1, inplace=True)\n",
        "df[[\"Flow Bytes/s\", \"Flow Packets/s\"]] = df[[\"Flow Bytes/s\", \"Flow Packets/s\"]].apply(pd.to_numeric)\n",
        "non_numeric_features = list(df.select_dtypes(include=['object']).columns)\n",
        "non_numeric_features.remove('Label')\n",
        "non_numeric_features"
      ],
      "metadata": {
        "colab": {
          "base_uri": "https://localhost:8080/"
        },
        "id": "XS3wj5rTJzwM",
        "outputId": "8d2314a3-3cf8-4e81-b71d-e84ea888fc6a"
      },
      "execution_count": 11,
      "outputs": [
        {
          "output_type": "execute_result",
          "data": {
            "text/plain": [
              "['Flow ID', 'Source IP', 'Destination IP', 'Timestamp']"
            ]
          },
          "metadata": {},
          "execution_count": 11
        }
      ]
    },
    {
      "cell_type": "code",
      "source": [
        "df[non_numeric_features]"
      ],
      "metadata": {
        "colab": {
          "base_uri": "https://localhost:8080/",
          "height": 424
        },
        "id": "w12CmVpPul27",
        "outputId": "d0c69fc5-1948-475a-c49e-2641ca5318cb"
      },
      "execution_count": 12,
      "outputs": [
        {
          "output_type": "execute_result",
          "data": {
            "text/plain": [
              "                                         Flow ID       Source IP  \\\n",
              "0         192.168.10.3-192.168.10.50-389-33898-6   192.168.10.50   \n",
              "1         192.168.10.3-192.168.10.50-389-33904-6   192.168.10.50   \n",
              "2                          8.0.6.4-8.6.0.1-0-0-0         8.6.0.1   \n",
              "3         192.168.10.14-65.55.44.109-59135-443-6   192.168.10.14   \n",
              "4         192.168.10.3-192.168.10.14-53-59555-17   192.168.10.14   \n",
              "...                                          ...             ...   \n",
              "170361   157.240.18.35-192.168.10.51-443-55641-6   157.240.18.35   \n",
              "170362  192.168.10.51-199.16.156.120-45337-443-6  199.16.156.120   \n",
              "170363    192.168.10.12-192.168.10.50-60148-22-6   192.168.10.12   \n",
              "170364    192.168.10.12-192.168.10.50-60146-22-6   192.168.10.12   \n",
              "170365    192.168.10.12-192.168.10.50-60146-22-6   192.168.10.50   \n",
              "\n",
              "       Destination IP       Timestamp  \n",
              "0        192.168.10.3   6/7/2017 8:59  \n",
              "1        192.168.10.3   6/7/2017 8:59  \n",
              "2             8.0.6.4   6/7/2017 8:59  \n",
              "3        65.55.44.109   6/7/2017 8:59  \n",
              "4        192.168.10.3   6/7/2017 8:59  \n",
              "...               ...             ...  \n",
              "170361  192.168.10.51  6/7/2017 12:59  \n",
              "170362  192.168.10.51  6/7/2017 12:59  \n",
              "170363  192.168.10.50  6/7/2017 12:59  \n",
              "170364  192.168.10.50  6/7/2017 12:59  \n",
              "170365  192.168.10.12  6/7/2017 12:59  \n",
              "\n",
              "[170366 rows x 4 columns]"
            ],
            "text/html": [
              "\n",
              "  <div id=\"df-c13eda07-5d15-4c3a-b516-e992499bafb5\">\n",
              "    <div class=\"colab-df-container\">\n",
              "      <div>\n",
              "<style scoped>\n",
              "    .dataframe tbody tr th:only-of-type {\n",
              "        vertical-align: middle;\n",
              "    }\n",
              "\n",
              "    .dataframe tbody tr th {\n",
              "        vertical-align: top;\n",
              "    }\n",
              "\n",
              "    .dataframe thead th {\n",
              "        text-align: right;\n",
              "    }\n",
              "</style>\n",
              "<table border=\"1\" class=\"dataframe\">\n",
              "  <thead>\n",
              "    <tr style=\"text-align: right;\">\n",
              "      <th></th>\n",
              "      <th>Flow ID</th>\n",
              "      <th>Source IP</th>\n",
              "      <th>Destination IP</th>\n",
              "      <th>Timestamp</th>\n",
              "    </tr>\n",
              "  </thead>\n",
              "  <tbody>\n",
              "    <tr>\n",
              "      <th>0</th>\n",
              "      <td>192.168.10.3-192.168.10.50-389-33898-6</td>\n",
              "      <td>192.168.10.50</td>\n",
              "      <td>192.168.10.3</td>\n",
              "      <td>6/7/2017 8:59</td>\n",
              "    </tr>\n",
              "    <tr>\n",
              "      <th>1</th>\n",
              "      <td>192.168.10.3-192.168.10.50-389-33904-6</td>\n",
              "      <td>192.168.10.50</td>\n",
              "      <td>192.168.10.3</td>\n",
              "      <td>6/7/2017 8:59</td>\n",
              "    </tr>\n",
              "    <tr>\n",
              "      <th>2</th>\n",
              "      <td>8.0.6.4-8.6.0.1-0-0-0</td>\n",
              "      <td>8.6.0.1</td>\n",
              "      <td>8.0.6.4</td>\n",
              "      <td>6/7/2017 8:59</td>\n",
              "    </tr>\n",
              "    <tr>\n",
              "      <th>3</th>\n",
              "      <td>192.168.10.14-65.55.44.109-59135-443-6</td>\n",
              "      <td>192.168.10.14</td>\n",
              "      <td>65.55.44.109</td>\n",
              "      <td>6/7/2017 8:59</td>\n",
              "    </tr>\n",
              "    <tr>\n",
              "      <th>4</th>\n",
              "      <td>192.168.10.3-192.168.10.14-53-59555-17</td>\n",
              "      <td>192.168.10.14</td>\n",
              "      <td>192.168.10.3</td>\n",
              "      <td>6/7/2017 8:59</td>\n",
              "    </tr>\n",
              "    <tr>\n",
              "      <th>...</th>\n",
              "      <td>...</td>\n",
              "      <td>...</td>\n",
              "      <td>...</td>\n",
              "      <td>...</td>\n",
              "    </tr>\n",
              "    <tr>\n",
              "      <th>170361</th>\n",
              "      <td>157.240.18.35-192.168.10.51-443-55641-6</td>\n",
              "      <td>157.240.18.35</td>\n",
              "      <td>192.168.10.51</td>\n",
              "      <td>6/7/2017 12:59</td>\n",
              "    </tr>\n",
              "    <tr>\n",
              "      <th>170362</th>\n",
              "      <td>192.168.10.51-199.16.156.120-45337-443-6</td>\n",
              "      <td>199.16.156.120</td>\n",
              "      <td>192.168.10.51</td>\n",
              "      <td>6/7/2017 12:59</td>\n",
              "    </tr>\n",
              "    <tr>\n",
              "      <th>170363</th>\n",
              "      <td>192.168.10.12-192.168.10.50-60148-22-6</td>\n",
              "      <td>192.168.10.12</td>\n",
              "      <td>192.168.10.50</td>\n",
              "      <td>6/7/2017 12:59</td>\n",
              "    </tr>\n",
              "    <tr>\n",
              "      <th>170364</th>\n",
              "      <td>192.168.10.12-192.168.10.50-60146-22-6</td>\n",
              "      <td>192.168.10.12</td>\n",
              "      <td>192.168.10.50</td>\n",
              "      <td>6/7/2017 12:59</td>\n",
              "    </tr>\n",
              "    <tr>\n",
              "      <th>170365</th>\n",
              "      <td>192.168.10.12-192.168.10.50-60146-22-6</td>\n",
              "      <td>192.168.10.50</td>\n",
              "      <td>192.168.10.12</td>\n",
              "      <td>6/7/2017 12:59</td>\n",
              "    </tr>\n",
              "  </tbody>\n",
              "</table>\n",
              "<p>170366 rows × 4 columns</p>\n",
              "</div>\n",
              "      <button class=\"colab-df-convert\" onclick=\"convertToInteractive('df-c13eda07-5d15-4c3a-b516-e992499bafb5')\"\n",
              "              title=\"Convert this dataframe to an interactive table.\"\n",
              "              style=\"display:none;\">\n",
              "        \n",
              "  <svg xmlns=\"http://www.w3.org/2000/svg\" height=\"24px\"viewBox=\"0 0 24 24\"\n",
              "       width=\"24px\">\n",
              "    <path d=\"M0 0h24v24H0V0z\" fill=\"none\"/>\n",
              "    <path d=\"M18.56 5.44l.94 2.06.94-2.06 2.06-.94-2.06-.94-.94-2.06-.94 2.06-2.06.94zm-11 1L8.5 8.5l.94-2.06 2.06-.94-2.06-.94L8.5 2.5l-.94 2.06-2.06.94zm10 10l.94 2.06.94-2.06 2.06-.94-2.06-.94-.94-2.06-.94 2.06-2.06.94z\"/><path d=\"M17.41 7.96l-1.37-1.37c-.4-.4-.92-.59-1.43-.59-.52 0-1.04.2-1.43.59L10.3 9.45l-7.72 7.72c-.78.78-.78 2.05 0 2.83L4 21.41c.39.39.9.59 1.41.59.51 0 1.02-.2 1.41-.59l7.78-7.78 2.81-2.81c.8-.78.8-2.07 0-2.86zM5.41 20L4 18.59l7.72-7.72 1.47 1.35L5.41 20z\"/>\n",
              "  </svg>\n",
              "      </button>\n",
              "      \n",
              "  <style>\n",
              "    .colab-df-container {\n",
              "      display:flex;\n",
              "      flex-wrap:wrap;\n",
              "      gap: 12px;\n",
              "    }\n",
              "\n",
              "    .colab-df-convert {\n",
              "      background-color: #E8F0FE;\n",
              "      border: none;\n",
              "      border-radius: 50%;\n",
              "      cursor: pointer;\n",
              "      display: none;\n",
              "      fill: #1967D2;\n",
              "      height: 32px;\n",
              "      padding: 0 0 0 0;\n",
              "      width: 32px;\n",
              "    }\n",
              "\n",
              "    .colab-df-convert:hover {\n",
              "      background-color: #E2EBFA;\n",
              "      box-shadow: 0px 1px 2px rgba(60, 64, 67, 0.3), 0px 1px 3px 1px rgba(60, 64, 67, 0.15);\n",
              "      fill: #174EA6;\n",
              "    }\n",
              "\n",
              "    [theme=dark] .colab-df-convert {\n",
              "      background-color: #3B4455;\n",
              "      fill: #D2E3FC;\n",
              "    }\n",
              "\n",
              "    [theme=dark] .colab-df-convert:hover {\n",
              "      background-color: #434B5C;\n",
              "      box-shadow: 0px 1px 3px 1px rgba(0, 0, 0, 0.15);\n",
              "      filter: drop-shadow(0px 1px 2px rgba(0, 0, 0, 0.3));\n",
              "      fill: #FFFFFF;\n",
              "    }\n",
              "  </style>\n",
              "\n",
              "      <script>\n",
              "        const buttonEl =\n",
              "          document.querySelector('#df-c13eda07-5d15-4c3a-b516-e992499bafb5 button.colab-df-convert');\n",
              "        buttonEl.style.display =\n",
              "          google.colab.kernel.accessAllowed ? 'block' : 'none';\n",
              "\n",
              "        async function convertToInteractive(key) {\n",
              "          const element = document.querySelector('#df-c13eda07-5d15-4c3a-b516-e992499bafb5');\n",
              "          const dataTable =\n",
              "            await google.colab.kernel.invokeFunction('convertToInteractive',\n",
              "                                                     [key], {});\n",
              "          if (!dataTable) return;\n",
              "\n",
              "          const docLinkHtml = 'Like what you see? Visit the ' +\n",
              "            '<a target=\"_blank\" href=https://colab.research.google.com/notebooks/data_table.ipynb>data table notebook</a>'\n",
              "            + ' to learn more about interactive tables.';\n",
              "          element.innerHTML = '';\n",
              "          dataTable['output_type'] = 'display_data';\n",
              "          await google.colab.output.renderOutput(dataTable, element);\n",
              "          const docLink = document.createElement('div');\n",
              "          docLink.innerHTML = docLinkHtml;\n",
              "          element.appendChild(docLink);\n",
              "        }\n",
              "      </script>\n",
              "    </div>\n",
              "  </div>\n",
              "  "
            ]
          },
          "metadata": {},
          "execution_count": 12
        }
      ]
    },
    {
      "cell_type": "markdown",
      "source": [
        "The next step is to convert string-valued features to numeric with the help of label encoder by scikit-learn library."
      ],
      "metadata": {
        "id": "45jdNh6Bjk7A"
      }
    },
    {
      "cell_type": "code",
      "source": [
        "df['Label'].value_counts()\n",
        "labelencoder = preprocessing.LabelEncoder()\n",
        "df[non_numeric_features] = df[non_numeric_features].apply(lambda column: labelencoder.fit_transform(column))\n"
      ],
      "metadata": {
        "id": "La72xGqSL2xd"
      },
      "execution_count": 13,
      "outputs": []
    },
    {
      "cell_type": "markdown",
      "source": [
        "As it seen above, the data in the dataset is unbalanced: records of benign traffic fill almost the whole dataset."
      ],
      "metadata": {
        "id": "8K8mID4n2KQX"
      }
    },
    {
      "cell_type": "markdown",
      "source": [
        "Benign traffic takes ~98.72% of the dataset.\n",
        "The solution is to remove a majority of the benign records using undersampling.\n",
        "\n",
        "Proportion of the following balanced_dataset.csv according to the norm is going to be like this:<br>\n",
        "\n",
        "30% of the new dataset consists of attacks<br>\n",
        "70% consists of benign data.<br>\n",
        "\n",
        "The way to to this: <br>\n",
        "Records with the attacks are copied to the new dataset.<br>\n",
        "Conditions for capturing benign records to the new dataset:<br>\n",
        "\n",
        "    The next record is captured with the benign_prob.\n",
        "\n",
        "    The total amount of benign records must not \n",
        "    go over the limit of 5087 records.\n"
      ],
      "metadata": {
        "id": "nri_IZHF24Qb"
      }
    },
    {
      "cell_type": "code",
      "source": [
        "overall_benign = len(df[df['Label'] == \"BENIGN\"])\n",
        "overall_attacks = len(df[df['Label'] != \"BENIGN\"])\n",
        "print('Benign traffic to attacks ratio: ', overall_benign * 100 / (overall_benign + overall_attacks))"
      ],
      "metadata": {
        "colab": {
          "base_uri": "https://localhost:8080/"
        },
        "id": "F687_8SR1TMc",
        "outputId": "f68ae9cd-2481-4543-90cd-d95b2190b7ad"
      },
      "execution_count": 14,
      "outputs": [
        {
          "output_type": "stream",
          "name": "stdout",
          "text": [
            "Benign traffic to attacks ratio:  98.72040195813719\n"
          ]
        }
      ]
    },
    {
      "cell_type": "code",
      "source": [
        "ratio_benign_70 = overall_attacks * 70 / 30 \n",
        "benign_prob = (ratio_benign_70 / overall_benign) * 1.05\n",
        "print('Benign (70%): {benign}\\nAttacks(30%): {attacks}\\nProbability value: {prob}'.format(\n",
        "    benign = ratio_benign_70, attacks = overall_attacks, prob = benign_prob))\n"
      ],
      "metadata": {
        "colab": {
          "base_uri": "https://localhost:8080/"
        },
        "id": "4bAtk5Jm3V8m",
        "outputId": "cd38dd9d-97c0-45ec-a6a2-902afb3fd137"
      },
      "execution_count": 15,
      "outputs": [
        {
          "output_type": "stream",
          "name": "stdout",
          "text": [
            "Benign (70%): 5086.666666666667\n",
            "Attacks(30%): 2180\n",
            "Probability value: 0.03175650767602536\n"
          ]
        }
      ]
    },
    {
      "cell_type": "code",
      "source": [
        "prob_indexes, captured_benign = [], 0\n",
        "for loc, row in df.iterrows():\n",
        "    if (row['Label'] == 'BENIGN'):\n",
        "      if captured_benign < ratio_benign_70:\n",
        "          if random.random() < benign_prob:\n",
        "            captured_benign += 1\n",
        "            prob_indexes.append(loc)\n",
        "    else:\n",
        "      prob_indexes.append(loc)\n",
        "        \n",
        "balanced_df_30_70 = df.loc[prob_indexes]\n",
        "balanced_df_30_70.shape\n"
      ],
      "metadata": {
        "colab": {
          "base_uri": "https://localhost:8080/"
        },
        "id": "FvGUcgfsDwyL",
        "outputId": "41f5f5bf-513a-4c8d-ce85-dbfd39ce5812"
      },
      "execution_count": 16,
      "outputs": [
        {
          "output_type": "execute_result",
          "data": {
            "text/plain": [
              "(7267, 84)"
            ]
          },
          "metadata": {},
          "execution_count": 16
        }
      ]
    },
    {
      "cell_type": "code",
      "source": [
        "balanced_df_30_70.to_csv(\"balanced.csv\", index=False)\n",
        "df = pd.read_csv('balanced.csv')\n",
        "print(df['Label'].value_counts())"
      ],
      "metadata": {
        "colab": {
          "base_uri": "https://localhost:8080/"
        },
        "id": "PVzgvVv2GSPz",
        "outputId": "693c4814-740d-4b53-cf45-587994ccb6d4"
      },
      "execution_count": 17,
      "outputs": [
        {
          "output_type": "stream",
          "name": "stdout",
          "text": [
            "BENIGN                       5087\n",
            "Web Attack  Brute Force      1507\n",
            "Web Attack  XSS               652\n",
            "Web Attack  Sql Injection      21\n",
            "Name: Label, dtype: int64\n"
          ]
        }
      ]
    },
    {
      "cell_type": "markdown",
      "source": [
        "Now that we have a balanced dataset, the goal is to detect wether a record represents an attack or not, so we can encode labels 'BENIGN' with 0 and the other types of traffic are going to be replaced with 1.\n",
        "Another thing to be mentioned, is that some of the features are not necessary to be taken into consideration when training the model. Such things as ports and addresses can be substituted by an attacker."
      ],
      "metadata": {
        "id": "4FVvY8phHcFJ"
      }
    },
    {
      "cell_type": "code",
      "source": [
        "df['Label'] = df['Label'].apply(lambda y: 1 if y != 'BENIGN' else 0)\n",
        "removed = ['Flow ID', 'Source IP', 'Source Port', 'Destination IP', \n",
        "            'Destination Port', 'Protocol', 'Timestamp', 'Init_Win_bytes_backward', 'Init_Win_bytes_forward']\n",
        "df = df.drop(columns=removed, errors='ignore')"
      ],
      "metadata": {
        "id": "kiWVjo2UHcYb"
      },
      "execution_count": 18,
      "outputs": []
    },
    {
      "cell_type": "code",
      "source": [
        "df.shape"
      ],
      "metadata": {
        "colab": {
          "base_uri": "https://localhost:8080/"
        },
        "id": "YQmwnQcSNTH0",
        "outputId": "f7616e62-6368-4c33-9920-4b966d4a4244"
      },
      "execution_count": 19,
      "outputs": [
        {
          "output_type": "execute_result",
          "data": {
            "text/plain": [
              "(7267, 75)"
            ]
          },
          "metadata": {},
          "execution_count": 19
        }
      ]
    },
    {
      "cell_type": "markdown",
      "source": [
        "\n",
        "Calculating feature importance.<br>\n",
        "First, split the balanced dataset into random train and test subsets."
      ],
      "metadata": {
        "id": "3EWthZopNBc9"
      }
    },
    {
      "cell_type": "code",
      "source": [
        "from sklearn.model_selection import train_test_split\n",
        "y = df['Label'].values\n",
        "X = df.drop(columns=['Label'])\n",
        "X_train, X_test, y_train, y_test = train_test_split(X, y, test_size=0.3, random_state=42)"
      ],
      "metadata": {
        "id": "vJxCVQQ_M6Bn"
      },
      "execution_count": 20,
      "outputs": []
    },
    {
      "cell_type": "code",
      "source": [
        "X.shape, y.shape"
      ],
      "metadata": {
        "colab": {
          "base_uri": "https://localhost:8080/"
        },
        "id": "T-DT7tJXmRKm",
        "outputId": "9e17bf5c-cc1b-43e9-acc9-6ef6dbc411a7"
      },
      "execution_count": 21,
      "outputs": [
        {
          "output_type": "execute_result",
          "data": {
            "text/plain": [
              "((7267, 74), (7267,))"
            ]
          },
          "metadata": {},
          "execution_count": 21
        }
      ]
    },
    {
      "cell_type": "markdown",
      "source": [
        "For the convenience of visualization, first we use one tree, choosing only 5 leaves.\n",
        "\n",
        "By changing the random_state parameter, we will get different trees and different features with the highest importance. But the forest will already average individual trees below."
      ],
      "metadata": {
        "id": "XxCBHeknpVgm"
      }
    },
    {
      "cell_type": "code",
      "source": [
        "from sklearn.model_selection import cross_val_score\n",
        "from sklearn.tree import DecisionTreeClassifier\n",
        "from sklearn.tree import export_text\n",
        "decision_tree = DecisionTreeClassifier(max_leaf_nodes=5, random_state=0)\n",
        "decision_tree = decision_tree.fit(X_train, y_train)\n",
        "cross_val_score(decision_tree, X_train, y_train, cv=10)"
      ],
      "metadata": {
        "colab": {
          "base_uri": "https://localhost:8080/"
        },
        "id": "i5BkXkyiOzY6",
        "outputId": "1354b56d-8e30-4685-b1e0-eb8214015050"
      },
      "execution_count": 22,
      "outputs": [
        {
          "output_type": "execute_result",
          "data": {
            "text/plain": [
              "array([0.95088409, 0.95481336, 0.96463654, 0.95481336, 0.93909627,\n",
              "       0.95284872, 0.96653543, 0.9507874 , 0.9507874 , 0.97244094])"
            ]
          },
          "metadata": {},
          "execution_count": 22
        }
      ]
    },
    {
      "cell_type": "markdown",
      "source": [
        "Suspiciously high scores. The data needs to be observed more carefully, and also it is preferred to see the error matrix."
      ],
      "metadata": {
        "id": "jLWVMfjkqmW1"
      }
    },
    {
      "cell_type": "code",
      "source": [
        "from sklearn.metrics import confusion_matrix\n",
        "y_pred = decision_tree.predict(X_test)\n",
        "confusion_matrix(y_test, y_pred)"
      ],
      "metadata": {
        "colab": {
          "base_uri": "https://localhost:8080/"
        },
        "id": "EbuSdFA3q93P",
        "outputId": "b51ca91d-3ee8-47ad-91d2-9b355193e4d4"
      },
      "execution_count": 23,
      "outputs": [
        {
          "output_type": "execute_result",
          "data": {
            "text/plain": [
              "array([[1514,    1],\n",
              "       [  68,  598]])"
            ]
          },
          "metadata": {},
          "execution_count": 23
        }
      ]
    },
    {
      "cell_type": "code",
      "source": [
        "print('ATTACK (train): ', len(y_test[y_test==1]))\n",
        "print('BENIGN (train):  ', len(y_test[y_test==0]))"
      ],
      "metadata": {
        "colab": {
          "base_uri": "https://localhost:8080/"
        },
        "id": "BkFjlYweRDNE",
        "outputId": "241c78b8-7943-49e4-b665-ce416c7168ec"
      },
      "execution_count": 24,
      "outputs": [
        {
          "output_type": "stream",
          "name": "stdout",
          "text": [
            "ATTACK (train):  666\n",
            "BENIGN (train):   1515\n"
          ]
        }
      ]
    },
    {
      "cell_type": "code",
      "source": [
        "print('ATTACK : ', len(y_pred[y_pred==1]))\n",
        "print('BENIGN:  ', len(y_pred[y_pred==0]))"
      ],
      "metadata": {
        "colab": {
          "base_uri": "https://localhost:8080/"
        },
        "id": "oZVj8NPJrSko",
        "outputId": "5ce9f8b3-331b-42f7-e1d4-f3dcbe27c4cb"
      },
      "execution_count": 25,
      "outputs": [
        {
          "output_type": "stream",
          "name": "stdout",
          "text": [
            "ATTACK :  599\n",
            "BENIGN:   1582\n"
          ]
        }
      ]
    },
    {
      "cell_type": "code",
      "source": [
        "txt = export_text(decision_tree, feature_names=X_train.columns.to_list())\n",
        "print(txt)"
      ],
      "metadata": {
        "colab": {
          "base_uri": "https://localhost:8080/"
        },
        "id": "iGBAHo69O-8I",
        "outputId": "96aebcbd-08a7-4bb2-a7c8-68e0c4d1109b"
      },
      "execution_count": 26,
      "outputs": [
        {
          "output_type": "stream",
          "name": "stdout",
          "text": [
            "|--- Packet Length Mean <= 0.75\n",
            "|   |--- Fwd Header Length <= 100.00\n",
            "|   |   |--- class: 0\n",
            "|   |--- Fwd Header Length >  100.00\n",
            "|   |   |--- Fwd IAT Min <= 13348.00\n",
            "|   |   |   |--- class: 1\n",
            "|   |   |--- Fwd IAT Min >  13348.00\n",
            "|   |   |   |--- class: 0\n",
            "|--- Packet Length Mean >  0.75\n",
            "|   |--- Total Length of Fwd Packets <= 34651.50\n",
            "|   |   |--- class: 0\n",
            "|   |--- Total Length of Fwd Packets >  34651.50\n",
            "|   |   |--- class: 1\n",
            "\n"
          ]
        }
      ]
    },
    {
      "cell_type": "markdown",
      "source": [
        "There are 4 most important features as we can see below."
      ],
      "metadata": {
        "id": "G-Mrvk69s9uf"
      }
    },
    {
      "cell_type": "code",
      "source": [
        "locs = np.argsort(decision_tree.feature_importances_)[::-1]\n",
        "for idx, i in enumerate(locs[:20]):\n",
        "    print(\"{idx}.\\t{feature} - {importance}\".format(idx = idx, \n",
        "                                                    feature = X_train.columns[i], \n",
        "                                                    importance = decision_tree.feature_importances_[i]))"
      ],
      "metadata": {
        "colab": {
          "base_uri": "https://localhost:8080/"
        },
        "id": "nKob7NXMR3S-",
        "outputId": "8f6e6b81-01f8-430a-c417-30832b205d5a"
      },
      "execution_count": 27,
      "outputs": [
        {
          "output_type": "stream",
          "name": "stdout",
          "text": [
            "0.\tPacket Length Mean - 0.7244642650613947\n",
            "1.\tFwd Header Length - 0.20074545200364363\n",
            "2.\tTotal Length of Fwd Packets - 0.05485746044468535\n",
            "3.\tFwd IAT Min - 0.019932822490276416\n",
            "4.\tIdle Min - 0.0\n",
            "5.\tBwd IAT Std - 0.0\n",
            "6.\tFwd IAT Mean - 0.0\n",
            "7.\tFwd IAT Std - 0.0\n",
            "8.\tFwd IAT Max - 0.0\n",
            "9.\tBwd IAT Total - 0.0\n",
            "10.\tBwd IAT Mean - 0.0\n",
            "11.\tBwd IAT Min - 0.0\n",
            "12.\tBwd IAT Max - 0.0\n",
            "13.\tFlow IAT Min - 0.0\n",
            "14.\tFwd PSH Flags - 0.0\n",
            "15.\tBwd PSH Flags - 0.0\n",
            "16.\tFwd URG Flags - 0.0\n",
            "17.\tBwd URG Flags - 0.0\n",
            "18.\tFwd IAT Total - 0.0\n",
            "19.\tFlow IAT Max - 0.0\n"
          ]
        }
      ]
    },
    {
      "cell_type": "markdown",
      "source": [
        "Using random forest for estimating feature importance."
      ],
      "metadata": {
        "id": "EPpG3iSItmag"
      }
    },
    {
      "cell_type": "code",
      "source": [
        "from sklearn.ensemble import RandomForestClassifier\n",
        "random_forest = RandomForestClassifier(n_estimators=250, random_state=42, oob_score=True)\n",
        "random_forest.fit(X_train, y_train)\n",
        "print('Training Score: {:.4f} \\nValidation Score: {:.4f} \\nOut-of-bag Score: {:.4f}'.format(\n",
        "    random_forest.score(X_train, y_train),\n",
        "    random_forest.score(X_test, y_test), random_forest.oob_score_)\n",
        ")"
      ],
      "metadata": {
        "colab": {
          "base_uri": "https://localhost:8080/"
        },
        "id": "XgHijSltTV1r",
        "outputId": "ac508d87-a596-4d71-cefa-9f11529f8675"
      },
      "execution_count": 28,
      "outputs": [
        {
          "output_type": "stream",
          "name": "stdout",
          "text": [
            "Training Score: 0.9880 \n",
            "Validation Score: 0.9817 \n",
            "Out-of-bag Score: 0.9740\n"
          ]
        }
      ]
    },
    {
      "cell_type": "code",
      "source": [
        "main_labels = X.columns\n",
        "imp = random_forest.feature_importances_\n",
        "idx = np.argsort(imp )[::-1]\n",
        "web_labels = []\n",
        "print('{}.\\t{}\\t{}\\t{}'.format('Index', 'Col.', 'Importance', 'Feature'))\n",
        "for index, column_idx in enumerate(idx[:20]):\n",
        "    web_labels.append(main_labels[column_idx])\n",
        "    print('{}.\\t{}\\t{:.3f}\\t{}'.format(index + 1, column_idx, imp[column_idx], main_labels[column_idx]))"
      ],
      "metadata": {
        "colab": {
          "base_uri": "https://localhost:8080/"
        },
        "id": "vgR2Lwe3To8U",
        "outputId": "53858e12-bf5f-4d85-bc38-c0c9bda21299"
      },
      "execution_count": 29,
      "outputs": [
        {
          "output_type": "stream",
          "name": "stdout",
          "text": [
            "Index.\tCol.\tImportance\tFeature\n",
            "1.\t51\t0.082\tAverage Packet Size\n",
            "2.\t13\t0.079\tFlow Bytes/s\n",
            "3.\t38\t0.064\tMax Packet Length\n",
            "4.\t39\t0.061\tPacket Length Mean\n",
            "5.\t7\t0.059\tFwd Packet Length Mean\n",
            "6.\t52\t0.054\tAvg Fwd Segment Size\n",
            "7.\t23\t0.052\tFwd IAT Min\n",
            "8.\t61\t0.047\tSubflow Fwd Bytes\n",
            "9.\t3\t0.041\tTotal Length of Fwd Packets\n",
            "10.\t15\t0.036\tFlow IAT Mean\n",
            "11.\t33\t0.032\tFwd Header Length\n",
            "12.\t5\t0.030\tFwd Packet Length Max\n",
            "13.\t21\t0.029\tFwd IAT Std\n",
            "14.\t0\t0.026\tFlow Duration\n",
            "15.\t14\t0.025\tFlow Packets/s\n",
            "16.\t22\t0.019\tFwd IAT Max\n",
            "17.\t35\t0.019\tFwd Packets/s\n",
            "18.\t20\t0.018\tFwd IAT Mean\n",
            "19.\t16\t0.018\tFlow IAT Std\n",
            "20.\t19\t0.017\tFwd IAT Total\n"
          ]
        }
      ]
    },
    {
      "cell_type": "code",
      "source": [
        "y_pred = random_forest.predict(X_test)\n",
        "confusion_matrix(y_test, y_pred)"
      ],
      "metadata": {
        "colab": {
          "base_uri": "https://localhost:8080/"
        },
        "id": "0SghEqkqwYNp",
        "outputId": "8449b925-f323-46a4-b185-852be0065937"
      },
      "execution_count": 30,
      "outputs": [
        {
          "output_type": "execute_result",
          "data": {
            "text/plain": [
              "array([[1494,   21],\n",
              "       [  19,  647]])"
            ]
          },
          "metadata": {},
          "execution_count": 30
        }
      ]
    },
    {
      "cell_type": "code",
      "source": [
        "locs = np.argsort(imp)[-20:]\n",
        "plt.rcParams['figure.figsize'] = (15, 8)\n",
        "plt.title('Feature Importances')\n",
        "plt.barh(range(len(locs)), imp[locs], color='#913945', align='center')\n",
        "plt.yticks(range(len(locs)), [main_labels[i] for i in locs])\n",
        "plt.xlabel('Relative Importance')\n",
        "plt.grid()\n",
        "plt.savefig('feature_importances.png', dpi=300, bbox_inches='tight')\n",
        "plt.show()\n"
      ],
      "metadata": {
        "colab": {
          "base_uri": "https://localhost:8080/",
          "height": 513
        },
        "id": "zIpMl2w5UE_w",
        "outputId": "608d7fcb-15f6-4370-e114-91532f879ac4"
      },
      "execution_count": 31,
      "outputs": [
        {
          "output_type": "display_data",
          "data": {
            "text/plain": [
              "<Figure size 1080x576 with 1 Axes>"
            ],
            "image/png": "[encoded data removed]"
          },
          "metadata": {
            "needs_background": "light"
          }
        }
      ]
    },
    {
      "cell_type": "markdown",
      "source": [
        "Out of 74 features, we will keep the top 20 important ones."
      ],
      "metadata": {
        "id": "nxLkk7cFxOtO"
      }
    },
    {
      "cell_type": "code",
      "source": [
        "feature_top = 20\n",
        "web_labels = web_labels[:feature_top]\n",
        "web_labels"
      ],
      "metadata": {
        "colab": {
          "base_uri": "https://localhost:8080/"
        },
        "id": "HUDPu_4NTOFP",
        "outputId": "71dce573-f42c-4465-93e6-badc526ab774"
      },
      "execution_count": 32,
      "outputs": [
        {
          "output_type": "execute_result",
          "data": {
            "text/plain": [
              "['Average Packet Size',\n",
              " 'Flow Bytes/s',\n",
              " 'Max Packet Length',\n",
              " 'Packet Length Mean',\n",
              " 'Fwd Packet Length Mean',\n",
              " 'Avg Fwd Segment Size',\n",
              " 'Fwd IAT Min',\n",
              " 'Subflow Fwd Bytes',\n",
              " 'Total Length of Fwd Packets',\n",
              " 'Flow IAT Mean',\n",
              " 'Fwd Header Length',\n",
              " 'Fwd Packet Length Max',\n",
              " 'Fwd IAT Std',\n",
              " 'Flow Duration',\n",
              " 'Flow Packets/s',\n",
              " 'Fwd IAT Max',\n",
              " 'Fwd Packets/s',\n",
              " 'Fwd IAT Mean',\n",
              " 'Flow IAT Std',\n",
              " 'Fwd IAT Total']"
            ]
          },
          "metadata": {},
          "execution_count": 32
        }
      ]
    },
    {
      "cell_type": "markdown",
      "source": [
        "The next step is to check correlation matrix and remove correlated features out of the dataset."
      ],
      "metadata": {
        "id": "tJfE6IaAxcXb"
      }
    },
    {
      "cell_type": "code",
      "source": [
        "import seaborn as sns\n",
        "plt.rcParams['figure.figsize'] = (15, 9)\n",
        "matrix = df[web_labels].corr()\n",
        "g = sns.heatmap(matrix, annot=True, fmt='.1g', cmap='Reds')\n",
        "g.set_xticklabels(g.get_xticklabels(), verticalalignment='top', horizontalalignment='right', rotation=30);\n",
        "plt.savefig('heatmap_correlation.png', dpi=300, bbox_inches='tight')"
      ],
      "metadata": {
        "colab": {
          "base_uri": "https://localhost:8080/",
          "height": 609
        },
        "id": "wJS2nAuNWLr6",
        "outputId": "0ff568fc-4233-4909-f65e-9592561cd310"
      },
      "execution_count": 33,
      "outputs": [
        {
          "output_type": "display_data",
          "data": {
            "text/plain": [
              "<Figure size 1080x648 with 2 Axes>"
            ],
            "image/png": "[encoded data removed]"
          },
          "metadata": {
            "needs_background": "light"
          }
        }
      ]
    },
    {
      "cell_type": "code",
      "source": [
        "exl = {'Packet Length Mean', 'Avg Fwd Segment Size', 'Subflow Fwd Bytes',  \n",
        "        'Fwd Packets/s', 'Fwd IAT Total', 'Fwd IAT Mean'}\n",
        "web_labels = [item for item in web_labels if item not in exl]\n",
        "web_labels = web_labels[:10]\n",
        "web_labels"
      ],
      "metadata": {
        "colab": {
          "base_uri": "https://localhost:8080/"
        },
        "id": "MN4xQ2umWx_k",
        "outputId": "b9f280a1-d75b-4a96-d4b9-42a8cbb9a121"
      },
      "execution_count": 34,
      "outputs": [
        {
          "output_type": "execute_result",
          "data": {
            "text/plain": [
              "['Average Packet Size',\n",
              " 'Flow Bytes/s',\n",
              " 'Max Packet Length',\n",
              " 'Fwd Packet Length Mean',\n",
              " 'Fwd IAT Min',\n",
              " 'Total Length of Fwd Packets',\n",
              " 'Flow IAT Mean',\n",
              " 'Fwd Header Length',\n",
              " 'Fwd Packet Length Max',\n",
              " 'Fwd IAT Std']"
            ]
          },
          "metadata": {},
          "execution_count": 34
        }
      ]
    },
    {
      "cell_type": "code",
      "source": [
        "matrix = df[web_labels].corr()\n",
        "plt.rcParams['figure.figsize'] = (15, 9)\n",
        "sns.heatmap(matrix, annot=True, fmt='.1g', cmap='Reds')"
      ],
      "metadata": {
        "colab": {
          "base_uri": "https://localhost:8080/",
          "height": 686
        },
        "id": "UHt_CetOXGFh",
        "outputId": "bd3a695d-4e74-47ad-c2c0-59e9d0f2fca6"
      },
      "execution_count": 35,
      "outputs": [
        {
          "output_type": "execute_result",
          "data": {
            "text/plain": [
              "<matplotlib.axes._subplots.AxesSubplot at 0x7f2a00fd22b0>"
            ]
          },
          "metadata": {},
          "execution_count": 35
        },
        {
          "output_type": "display_data",
          "data": {
            "text/plain": [
              "<Figure size 1080x648 with 2 Axes>"
            ],
            "image/png": "[encoded data removed]"
          },
          "metadata": {
            "needs_background": "light"
          }
        }
      ]
    },
    {
      "cell_type": "markdown",
      "source": [
        "As a result, now the shape of the dataset is following:"
      ],
      "metadata": {
        "id": "agwVb9PLyohF"
      }
    },
    {
      "cell_type": "code",
      "source": [
        "y = df['Label'].values\n",
        "X = df[web_labels]\n",
        "print(X.shape, y.shape)"
      ],
      "metadata": {
        "colab": {
          "base_uri": "https://localhost:8080/"
        },
        "id": "4YXSk1yVartw",
        "outputId": "7a846a6e-cba2-4323-9e9b-3be49a7892cb"
      },
      "execution_count": 36,
      "outputs": [
        {
          "output_type": "stream",
          "name": "stdout",
          "text": [
            "(7267, 10) (7267,)\n"
          ]
        }
      ]
    },
    {
      "cell_type": "markdown",
      "source": [
        "\n",
        "Now we will choose hyperparameters for the random forrest classifier."
      ],
      "metadata": {
        "id": "nwpCiYely1qQ"
      }
    },
    {
      "cell_type": "code",
      "source": [
        "random_forest_classifier = RandomForestClassifier(random_state=1)\n",
        "random_forest_classifier.get_params().keys()\n",
        "from sklearn.model_selection import GridSearchCV\n",
        "parameters = {'n_estimators': [10],\n",
        "              'min_samples_leaf': [3],\n",
        "              'max_features': [3], \n",
        "              'max_depth': [1, 2, 3, 4, 5, 6, 7, 8, 9, 10, 11, 13, 15, 17, 20, 30, 50]}\n",
        "scoring = {'f1', 'accuracy'}\n",
        "grid_search_cv = GridSearchCV(random_forest_classifier, parameters, \n",
        "                              scoring=scoring, refit='f1', cv=10, \n",
        "                              return_train_score=True)\n",
        "get_ipython().run_line_magic('time', 'grid_search_cv.fit(X, y)')\n",
        "res = grid_search_cv.cv_results_"
      ],
      "metadata": {
        "colab": {
          "base_uri": "https://localhost:8080/"
        },
        "id": "o5iyTIAozj-s",
        "outputId": "26b26161-1687-4247-8305-01ee52452fc2"
      },
      "execution_count": 37,
      "outputs": [
        {
          "output_type": "stream",
          "name": "stdout",
          "text": [
            "CPU times: user 12.2 s, sys: 53.5 ms, total: 12.2 s\n",
            "Wall time: 12.2 s\n"
          ]
        }
      ]
    },
    {
      "cell_type": "code",
      "source": [
        "plt.figure(figsize=(15, 8))\n",
        "plt.title(\"GridSearchCV\", fontsize=18)\n",
        "plt.xlabel('max_depth')\n",
        "plt.ylabel('f1')\n",
        "ax = plt.gca()\n",
        "ax.set_xlim(1, 40)\n",
        "ax.set_ylim(0.9, 1)\n",
        "X_axis = np.array(res['param_max_depth'].data, dtype=float)\n",
        "for eval, color in zip(sorted(scoring), ['r', 'k']):\n",
        "    for sample, style in (('train', '--'), ('test', '-')):\n",
        "        sample_score_mean = res['mean_%s_%s' % (sample, eval)]\n",
        "        sample_score_std = res['std_%s_%s' % (sample, eval)]\n",
        "        ax.fill_between(X_axis, sample_score_mean - sample_score_std,\n",
        "                        sample_score_mean + sample_score_std,\n",
        "                        alpha=0.1 if sample == 'test' else 0, color=color)\n",
        "        ax.plot(X_axis, sample_score_mean, style, color=color,\n",
        "                alpha=1 if sample == 'test' else 0.7,\n",
        "                label=\"%s (%s)\" % (eval, sample))\n",
        "    perfect = np.nonzero(res['rank_test_%s' % eval] == 1)[0][0]\n",
        "    top_est = res['mean_test_%s' % eval][perfect]\n",
        "    ax.plot([X_axis[perfect], ] * 2, [0, top_est],\n",
        "            linestyle='-.', color=color, marker='x', markeredgewidth=3, ms=8)\n",
        "    ax.annotate(\"%0.3f\" % top_est,\n",
        "                (X_axis[perfect] + 0.3, top_est + 0.005))\n",
        "plt.legend(loc=\"best\")\n",
        "plt.grid(False)\n",
        "plt.savefig('GridSearchCV.png', dpi=300)\n",
        "plt.show()"
      ],
      "metadata": {
        "colab": {
          "base_uri": "https://localhost:8080/",
          "height": 518
        },
        "id": "rIEX37Nfb7mN",
        "outputId": "548a266c-0a3d-4557-b583-4df3901eed1c"
      },
      "execution_count": 38,
      "outputs": [
        {
          "output_type": "display_data",
          "data": {
            "text/plain": [
              "<Figure size 1080x576 with 1 Axes>"
            ],
            "image/png": "[encoded data removed]"
          },
          "metadata": {
            "needs_background": "light"
          }
        }
      ]
    },
    {
      "cell_type": "markdown",
      "source": [
        "Choosing the best parameters:"
      ],
      "metadata": {
        "id": "qYkPTb132BIF"
      }
    },
    {
      "cell_type": "code",
      "source": [
        "parameters = {\n",
        "    'max_depth': [10, 17, 23],\n",
        "    'max_features': [3, 5, 7, 10], \n",
        "    'min_samples_leaf': [3, 5, 7],\n",
        "    'n_estimators': [30, 50, 70],\n",
        "}\n",
        "grid_search_cv = GridSearchCV(random_forest_classifier, parameters, scoring=scoring, refit='f1', cv=3, return_train_score=True)\n",
        "get_ipython().run_line_magic('time', 'grid_search_cv.fit(X, y)')"
      ],
      "metadata": {
        "colab": {
          "base_uri": "https://localhost:8080/"
        },
        "id": "Abec3F08ca85",
        "outputId": "da34799a-163a-4d8d-a1f1-dd857cd3d269"
      },
      "execution_count": 39,
      "outputs": [
        {
          "output_type": "stream",
          "name": "stdout",
          "text": [
            "CPU times: user 2min 6s, sys: 388 ms, total: 2min 7s\n",
            "Wall time: 2min 7s\n"
          ]
        },
        {
          "output_type": "execute_result",
          "data": {
            "text/plain": [
              "GridSearchCV(cv=3, estimator=RandomForestClassifier(random_state=1),\n",
              "             param_grid={'max_depth': [10, 17, 23],\n",
              "                         'max_features': [3, 5, 7, 10],\n",
              "                         'min_samples_leaf': [3, 5, 7],\n",
              "                         'n_estimators': [30, 50, 70]},\n",
              "             refit='f1', return_train_score=True, scoring={'f1', 'accuracy'})"
            ]
          },
          "metadata": {},
          "execution_count": 39
        }
      ]
    },
    {
      "cell_type": "markdown",
      "source": [
        "The best parameters for the classifier are:"
      ],
      "metadata": {
        "id": "3Wdln9ci2g4j"
      }
    },
    {
      "cell_type": "code",
      "source": [
        "grid_search_cv.best_estimator_"
      ],
      "metadata": {
        "colab": {
          "base_uri": "https://localhost:8080/"
        },
        "id": "nf5orq_odO2e",
        "outputId": "b9d98015-dc07-45f4-9ba4-739a2e6794ad"
      },
      "execution_count": 40,
      "outputs": [
        {
          "output_type": "execute_result",
          "data": {
            "text/plain": [
              "RandomForestClassifier(max_depth=10, max_features=3, min_samples_leaf=3,\n",
              "                       n_estimators=30, random_state=1)"
            ]
          },
          "metadata": {},
          "execution_count": 40
        }
      ]
    },
    {
      "cell_type": "code",
      "source": [
        "grid_search_cv.best_score_"
      ],
      "metadata": {
        "colab": {
          "base_uri": "https://localhost:8080/"
        },
        "id": "2dA08KJrdW9V",
        "outputId": "3ea0dc4c-816d-4abf-d395-a7459611f87a"
      },
      "execution_count": 41,
      "outputs": [
        {
          "output_type": "execute_result",
          "data": {
            "text/plain": [
              "0.9500285918196365"
            ]
          },
          "metadata": {},
          "execution_count": 41
        }
      ]
    },
    {
      "cell_type": "code",
      "source": [
        "X_train, X_test, y_train, y_test = train_test_split(X, y, test_size=0.3, random_state=42)\n",
        "print(X_train.shape, y_train.shape)\n",
        "print(X_test.shape, y_test.shape)\n",
        "random_forest_classifier = RandomForestClassifier(max_depth=10, max_features=10, \n",
        "                                                  min_samples_leaf=3, n_estimators=70, random_state=1,\n",
        "                                                  oob_score=True)\n",
        "random_forest_classifier.fit(X_train, y_train)"
      ],
      "metadata": {
        "colab": {
          "base_uri": "https://localhost:8080/"
        },
        "id": "TUDiZLPhdbfT",
        "outputId": "7bf46c8c-2aae-4ca7-c5a0-8a28becee68a"
      },
      "execution_count": 42,
      "outputs": [
        {
          "output_type": "stream",
          "name": "stdout",
          "text": [
            "(5086, 10) (5086,)\n",
            "(2181, 10) (2181,)\n"
          ]
        },
        {
          "output_type": "execute_result",
          "data": {
            "text/plain": [
              "RandomForestClassifier(max_depth=10, max_features=10, min_samples_leaf=3,\n",
              "                       n_estimators=70, oob_score=True, random_state=1)"
            ]
          },
          "metadata": {},
          "execution_count": 42
        }
      ]
    },
    {
      "cell_type": "code",
      "source": [
        "attrs = X.columns\n",
        "imp = random_forest_classifier.feature_importances_\n",
        "locs = np.argsort(imp)[::-1]\n",
        "for idx, col_num in enumerate(locs[:10]):\n",
        "    print('{}.\\t#{}\\t{:.3f}\\t{}'.format(idx + 1, col_num, imp[col_num], attrs[col_num]))\n",
        "y_pred = random_forest_classifier.predict(X_test)\n",
        "print('Confusion Matrix:\\t\\n', confusion_matrix(y_test, y_pred))"
      ],
      "metadata": {
        "colab": {
          "base_uri": "https://localhost:8080/"
        },
        "id": "60S0apC0dfT1",
        "outputId": "d081e496-4c45-467b-cbcb-5b23b70d541b"
      },
      "execution_count": 43,
      "outputs": [
        {
          "output_type": "stream",
          "name": "stdout",
          "text": [
            "1.\t#0\t0.329\tAverage Packet Size\n",
            "2.\t#2\t0.301\tMax Packet Length\n",
            "3.\t#7\t0.108\tFwd Header Length\n",
            "4.\t#9\t0.078\tFwd IAT Std\n",
            "5.\t#4\t0.052\tFwd IAT Min\n",
            "6.\t#6\t0.048\tFlow IAT Mean\n",
            "7.\t#5\t0.047\tTotal Length of Fwd Packets\n",
            "8.\t#3\t0.019\tFwd Packet Length Mean\n",
            "9.\t#1\t0.011\tFlow Bytes/s\n",
            "10.\t#8\t0.008\tFwd Packet Length Max\n",
            "Confusion Matrix:\t\n",
            " [[1492   23]\n",
            " [  25  641]]\n"
          ]
        }
      ]
    },
    {
      "cell_type": "code",
      "source": [
        "import sklearn.metrics as metrics\n",
        "\n",
        "acc_score = metrics.accuracy_score(y_test, y_pred)\n",
        "prec = metrics.precision_score(y_test, y_pred)\n",
        "recall = metrics.recall_score(y_test, y_pred)\n",
        "f1 = metrics.f1_score(y_test, y_pred)\n",
        "\n",
        "print('Accuracy:\\t', acc_score)\n",
        "print('Precision:\\t', prec)\n",
        "print('Recall:\\t', recall)\n",
        "print('F1:\\t', f1)\n"
      ],
      "metadata": {
        "colab": {
          "base_uri": "https://localhost:8080/"
        },
        "id": "WPdODHOKd4h3",
        "outputId": "d3e8f6a7-46ed-4c29-c99d-befc088cc494"
      },
      "execution_count": 44,
      "outputs": [
        {
          "output_type": "stream",
          "name": "stdout",
          "text": [
            "Accuracy:\t 0.9779917469050894\n",
            "Precision:\t 0.9653614457831325\n",
            "Recall:\t 0.9624624624624625\n",
            "F1:\t 0.9639097744360903\n"
          ]
        }
      ]
    },
    {
      "cell_type": "code",
      "source": [
        "with open('model.pkl', 'wb') as file:\n",
        "    pickle.dump(random_forest_classifier, file)\n",
        "with open('model.pkl', 'rb') as file:\n",
        "    random_forest_classifier = pickle.load(file)\n",
        "random_forest_classifier"
      ],
      "metadata": {
        "colab": {
          "base_uri": "https://localhost:8080/"
        },
        "id": "dBQNEOdUeCfj",
        "outputId": "2cd62b43-b625-42e8-eac2-bf4ad26a97c6"
      },
      "execution_count": 45,
      "outputs": [
        {
          "output_type": "execute_result",
          "data": {
            "text/plain": [
              "RandomForestClassifier(max_depth=10, max_features=10, min_samples_leaf=3,\n",
              "                       n_estimators=70, oob_score=True, random_state=1)"
            ]
          },
          "metadata": {},
          "execution_count": 45
        }
      ]
    },
    {
      "cell_type": "code",
      "source": [
        "df = pd.read_csv('balanced.csv')\n",
        "df['Label'] = df['Label'].apply(lambda y: 1 if y != 'BENIGN' else 0)\n",
        "y_test = df['Label'].values\n",
        "X_test = df[web_labels]\n",
        "print(X_test.shape, y_test.shape)\n",
        "print(\"Benign traffic actual:\\t{b} \\nAttacks actual:\\t{a}\".format(b = len(y_test[y_test == 0]),\n",
        "                                                                  a = len(y_test[y_test == 1])))"
      ],
      "metadata": {
        "colab": {
          "base_uri": "https://localhost:8080/"
        },
        "id": "LdyHDmCSBlQy",
        "outputId": "f7cf809e-99cd-42e0-aab2-bde35b56dea9"
      },
      "execution_count": 50,
      "outputs": [
        {
          "output_type": "stream",
          "name": "stdout",
          "text": [
            "(7267, 10) (7267,)\n",
            "Benign traffic actual:\t5087 \n",
            "Attacks actual:\t2180\n"
          ]
        }
      ]
    },
    {
      "cell_type": "code",
      "source": [
        "import time\n",
        "seconds = time.time()\n",
        "y_pred = random_forest_classifier.predict(X_test)\n",
        "print(\"Time of the operation:\\t\", time.time() - seconds, \"seconds\")\n",
        "print(\"Benign traffic:\\t{b} \\nAttacks detected:\\t{a}\".format(b = len(y_pred[y_pred == 0]),\n",
        "                                                             a = len(y_pred[y_pred == 1])))"
      ],
      "metadata": {
        "colab": {
          "base_uri": "https://localhost:8080/"
        },
        "id": "ODNSUGcq-OX0",
        "outputId": "8cf62da5-b541-409c-9835-a89cda447113"
      },
      "execution_count": 51,
      "outputs": [
        {
          "output_type": "stream",
          "name": "stdout",
          "text": [
            "Time of the operation:\t 0.11400794982910156 seconds\n",
            "Benign traffic:\t5112 \n",
            "Attacks detected:\t2155\n"
          ]
        }
      ]
    },
    {
      "cell_type": "code",
      "source": [
        "print(\"Benign traffic actual:\\t{b} \\nAttacks actual:\\t{a}\".format(b = len(y_test[y_test == 0]),\n",
        "                                                                  a = len(y_test[y_test == 1])))"
      ],
      "metadata": {
        "colab": {
          "base_uri": "https://localhost:8080/"
        },
        "id": "RdTaukk4_FJ-",
        "outputId": "94078659-9a44-4e77-babf-2602f47d4ed5"
      },
      "execution_count": 52,
      "outputs": [
        {
          "output_type": "stream",
          "name": "stdout",
          "text": [
            "Benign traffic actual:\t5087 \n",
            "Attacks actual:\t2180\n"
          ]
        }
      ]
    },
    {
      "cell_type": "code",
      "source": [
        "confusion_matrix(y_test, y_pred)"
      ],
      "metadata": {
        "colab": {
          "base_uri": "https://localhost:8080/"
        },
        "id": "an9Sr3M9_auM",
        "outputId": "e97767fc-513a-4046-b477-d8baade73ef2"
      },
      "execution_count": 53,
      "outputs": [
        {
          "output_type": "execute_result",
          "data": {
            "text/plain": [
              "array([[5033,   54],\n",
              "       [  79, 2101]])"
            ]
          },
          "metadata": {},
          "execution_count": 53
        }
      ]
    },
    {
      "cell_type": "code",
      "source": [
        "import sklearn.metrics as metrics\n",
        "\n",
        "acc_score = metrics.accuracy_score(y_test, y_pred)\n",
        "prec = metrics.precision_score(y_test, y_pred)\n",
        "recall = metrics.recall_score(y_test, y_pred)\n",
        "f1 = metrics.f1_score(y_test, y_pred)\n",
        "\n",
        "print('Accuracy:\\t', acc_score)\n",
        "print('Precision:\\t', prec)\n",
        "print('Recall:\\t', recall)\n",
        "print('F1:\\t', f1)"
      ],
      "metadata": {
        "colab": {
          "base_uri": "https://localhost:8080/"
        },
        "id": "Lgm9oFjCgHbf",
        "outputId": "2d5baf0e-e4a2-4bbf-e670-d9c2d39a979a"
      },
      "execution_count": 54,
      "outputs": [
        {
          "output_type": "stream",
          "name": "stdout",
          "text": [
            "Accuracy:\t 0.9816980872437044\n",
            "Precision:\t 0.9749419953596288\n",
            "Recall:\t 0.9637614678899082\n",
            "F1:\t 0.9693194925028835\n"
          ]
        }
      ]
    },
    {
      "cell_type": "code",
      "source": [
        "res[380:480]"
      ],
      "metadata": {
        "colab": {
          "base_uri": "https://localhost:8080/",
          "height": 520
        },
        "id": "XiwkZnVonX3U",
        "outputId": "e563412b-a285-4d03-a98e-cfde066b651e"
      },
      "execution_count": 60,
      "outputs": [
        {
          "output_type": "execute_result",
          "data": {
            "text/plain": [
              "     Average Packet Size  Flow Bytes/s  Max Packet Length  \\\n",
              "380             9.000000  2.488594e+03                6.0   \n",
              "381             2.000000  3.653806e+00                6.0   \n",
              "382            22.666667  6.607143e+05               31.0   \n",
              "383           238.785714  6.447298e+02             1047.0   \n",
              "384           624.470588  2.099113e+03             4344.0   \n",
              "..                   ...           ...                ...   \n",
              "475           144.222222  7.596656e+00              404.0   \n",
              "476             9.000000  4.000000e+06                6.0   \n",
              "477            77.333333  5.565018e+03              142.0   \n",
              "478            98.666667  8.847535e+03              171.0   \n",
              "479            80.833333  7.189722e+03              145.0   \n",
              "\n",
              "     Fwd Packet Length Mean  Fwd IAT Min  Total Length of Fwd Packets  \\\n",
              "380                6.000000       4822.0                         12.0   \n",
              "381                2.000000      23467.0                          6.0   \n",
              "382               15.500000          4.0                         31.0   \n",
              "383              146.000000          4.0                       1022.0   \n",
              "384               73.600000        192.0                        736.0   \n",
              "..                      ...          ...                          ...   \n",
              "475               85.666667      64687.0                        514.0   \n",
              "476                6.000000          3.0                         12.0   \n",
              "477               36.000000          3.0                        144.0   \n",
              "478               50.000000          3.0                        200.0   \n",
              "479               39.000000          3.0                        156.0   \n",
              "\n",
              "     Flow IAT Mean  Fwd Header Length  Fwd Packet Length Max   Fwd IAT Std  \\\n",
              "380   4.822000e+03               40.0                    6.0  0.000000e+00   \n",
              "381   6.568494e+05               84.0                    6.0  8.561677e+05   \n",
              "382   2.800000e+01               64.0                   31.0  0.000000e+00   \n",
              "383   3.988552e+05              232.0                  372.0  5.614102e+04   \n",
              "384   3.160859e+05              328.0                  395.0  1.650529e+06   \n",
              "..             ...                ...                    ...           ...   \n",
              "475   1.470000e+07              120.0                  404.0  3.210000e+07   \n",
              "476   3.000000e+00               40.0                    6.0  0.000000e+00   \n",
              "477   1.538180e+04               80.0                   36.0  1.751912e+04   \n",
              "478   1.225200e+04               80.0                   50.0  1.779971e+04   \n",
              "479   1.240660e+04               80.0                   39.0  1.795357e+04   \n",
              "\n",
              "     Label  Predict  \n",
              "380      0        0  \n",
              "381      0        0  \n",
              "382      0        0  \n",
              "383      1        1  \n",
              "384      1        0  \n",
              "..     ...      ...  \n",
              "475      0        0  \n",
              "476      0        0  \n",
              "477      0        0  \n",
              "478      0        0  \n",
              "479      0        0  \n",
              "\n",
              "[100 rows x 12 columns]"
            ],
            "text/html": [
              "\n",
              "  <div id=\"df-4a58645d-cab2-45c2-89f2-b03a9239545d\">\n",
              "    <div class=\"colab-df-container\">\n",
              "      <div>\n",
              "<style scoped>\n",
              "    .dataframe tbody tr th:only-of-type {\n",
              "        vertical-align: middle;\n",
              "    }\n",
              "\n",
              "    .dataframe tbody tr th {\n",
              "        vertical-align: top;\n",
              "    }\n",
              "\n",
              "    .dataframe thead th {\n",
              "        text-align: right;\n",
              "    }\n",
              "</style>\n",
              "<table border=\"1\" class=\"dataframe\">\n",
              "  <thead>\n",
              "    <tr style=\"text-align: right;\">\n",
              "      <th></th>\n",
              "      <th>Average Packet Size</th>\n",
              "      <th>Flow Bytes/s</th>\n",
              "      <th>Max Packet Length</th>\n",
              "      <th>Fwd Packet Length Mean</th>\n",
              "      <th>Fwd IAT Min</th>\n",
              "      <th>Total Length of Fwd Packets</th>\n",
              "      <th>Flow IAT Mean</th>\n",
              "      <th>Fwd Header Length</th>\n",
              "      <th>Fwd Packet Length Max</th>\n",
              "      <th>Fwd IAT Std</th>\n",
              "      <th>Label</th>\n",
              "      <th>Predict</th>\n",
              "    </tr>\n",
              "  </thead>\n",
              "  <tbody>\n",
              "    <tr>\n",
              "      <th>380</th>\n",
              "      <td>9.000000</td>\n",
              "      <td>2.488594e+03</td>\n",
              "      <td>6.0</td>\n",
              "      <td>6.000000</td>\n",
              "      <td>4822.0</td>\n",
              "      <td>12.0</td>\n",
              "      <td>4.822000e+03</td>\n",
              "      <td>40.0</td>\n",
              "      <td>6.0</td>\n",
              "      <td>0.000000e+00</td>\n",
              "      <td>0</td>\n",
              "      <td>0</td>\n",
              "    </tr>\n",
              "    <tr>\n",
              "      <th>381</th>\n",
              "      <td>2.000000</td>\n",
              "      <td>3.653806e+00</td>\n",
              "      <td>6.0</td>\n",
              "      <td>2.000000</td>\n",
              "      <td>23467.0</td>\n",
              "      <td>6.0</td>\n",
              "      <td>6.568494e+05</td>\n",
              "      <td>84.0</td>\n",
              "      <td>6.0</td>\n",
              "      <td>8.561677e+05</td>\n",
              "      <td>0</td>\n",
              "      <td>0</td>\n",
              "    </tr>\n",
              "    <tr>\n",
              "      <th>382</th>\n",
              "      <td>22.666667</td>\n",
              "      <td>6.607143e+05</td>\n",
              "      <td>31.0</td>\n",
              "      <td>15.500000</td>\n",
              "      <td>4.0</td>\n",
              "      <td>31.0</td>\n",
              "      <td>2.800000e+01</td>\n",
              "      <td>64.0</td>\n",
              "      <td>31.0</td>\n",
              "      <td>0.000000e+00</td>\n",
              "      <td>0</td>\n",
              "      <td>0</td>\n",
              "    </tr>\n",
              "    <tr>\n",
              "      <th>383</th>\n",
              "      <td>238.785714</td>\n",
              "      <td>6.447298e+02</td>\n",
              "      <td>1047.0</td>\n",
              "      <td>146.000000</td>\n",
              "      <td>4.0</td>\n",
              "      <td>1022.0</td>\n",
              "      <td>3.988552e+05</td>\n",
              "      <td>232.0</td>\n",
              "      <td>372.0</td>\n",
              "      <td>5.614102e+04</td>\n",
              "      <td>1</td>\n",
              "      <td>1</td>\n",
              "    </tr>\n",
              "    <tr>\n",
              "      <th>384</th>\n",
              "      <td>624.470588</td>\n",
              "      <td>2.099113e+03</td>\n",
              "      <td>4344.0</td>\n",
              "      <td>73.600000</td>\n",
              "      <td>192.0</td>\n",
              "      <td>736.0</td>\n",
              "      <td>3.160859e+05</td>\n",
              "      <td>328.0</td>\n",
              "      <td>395.0</td>\n",
              "      <td>1.650529e+06</td>\n",
              "      <td>1</td>\n",
              "      <td>0</td>\n",
              "    </tr>\n",
              "    <tr>\n",
              "      <th>...</th>\n",
              "      <td>...</td>\n",
              "      <td>...</td>\n",
              "      <td>...</td>\n",
              "      <td>...</td>\n",
              "      <td>...</td>\n",
              "      <td>...</td>\n",
              "      <td>...</td>\n",
              "      <td>...</td>\n",
              "      <td>...</td>\n",
              "      <td>...</td>\n",
              "      <td>...</td>\n",
              "      <td>...</td>\n",
              "    </tr>\n",
              "    <tr>\n",
              "      <th>475</th>\n",
              "      <td>144.222222</td>\n",
              "      <td>7.596656e+00</td>\n",
              "      <td>404.0</td>\n",
              "      <td>85.666667</td>\n",
              "      <td>64687.0</td>\n",
              "      <td>514.0</td>\n",
              "      <td>1.470000e+07</td>\n",
              "      <td>120.0</td>\n",
              "      <td>404.0</td>\n",
              "      <td>3.210000e+07</td>\n",
              "      <td>0</td>\n",
              "      <td>0</td>\n",
              "    </tr>\n",
              "    <tr>\n",
              "      <th>476</th>\n",
              "      <td>9.000000</td>\n",
              "      <td>4.000000e+06</td>\n",
              "      <td>6.0</td>\n",
              "      <td>6.000000</td>\n",
              "      <td>3.0</td>\n",
              "      <td>12.0</td>\n",
              "      <td>3.000000e+00</td>\n",
              "      <td>40.0</td>\n",
              "      <td>6.0</td>\n",
              "      <td>0.000000e+00</td>\n",
              "      <td>0</td>\n",
              "      <td>0</td>\n",
              "    </tr>\n",
              "    <tr>\n",
              "      <th>477</th>\n",
              "      <td>77.333333</td>\n",
              "      <td>5.565018e+03</td>\n",
              "      <td>142.0</td>\n",
              "      <td>36.000000</td>\n",
              "      <td>3.0</td>\n",
              "      <td>144.0</td>\n",
              "      <td>1.538180e+04</td>\n",
              "      <td>80.0</td>\n",
              "      <td>36.0</td>\n",
              "      <td>1.751912e+04</td>\n",
              "      <td>0</td>\n",
              "      <td>0</td>\n",
              "    </tr>\n",
              "    <tr>\n",
              "      <th>478</th>\n",
              "      <td>98.666667</td>\n",
              "      <td>8.847535e+03</td>\n",
              "      <td>171.0</td>\n",
              "      <td>50.000000</td>\n",
              "      <td>3.0</td>\n",
              "      <td>200.0</td>\n",
              "      <td>1.225200e+04</td>\n",
              "      <td>80.0</td>\n",
              "      <td>50.0</td>\n",
              "      <td>1.779971e+04</td>\n",
              "      <td>0</td>\n",
              "      <td>0</td>\n",
              "    </tr>\n",
              "    <tr>\n",
              "      <th>479</th>\n",
              "      <td>80.833333</td>\n",
              "      <td>7.189722e+03</td>\n",
              "      <td>145.0</td>\n",
              "      <td>39.000000</td>\n",
              "      <td>3.0</td>\n",
              "      <td>156.0</td>\n",
              "      <td>1.240660e+04</td>\n",
              "      <td>80.0</td>\n",
              "      <td>39.0</td>\n",
              "      <td>1.795357e+04</td>\n",
              "      <td>0</td>\n",
              "      <td>0</td>\n",
              "    </tr>\n",
              "  </tbody>\n",
              "</table>\n",
              "<p>100 rows × 12 columns</p>\n",
              "</div>\n",
              "      <button class=\"colab-df-convert\" onclick=\"convertToInteractive('df-4a58645d-cab2-45c2-89f2-b03a9239545d')\"\n",
              "              title=\"Convert this dataframe to an interactive table.\"\n",
              "              style=\"display:none;\">\n",
              "        \n",
              "  <svg xmlns=\"http://www.w3.org/2000/svg\" height=\"24px\"viewBox=\"0 0 24 24\"\n",
              "       width=\"24px\">\n",
              "    <path d=\"M0 0h24v24H0V0z\" fill=\"none\"/>\n",
              "    <path d=\"M18.56 5.44l.94 2.06.94-2.06 2.06-.94-2.06-.94-.94-2.06-.94 2.06-2.06.94zm-11 1L8.5 8.5l.94-2.06 2.06-.94-2.06-.94L8.5 2.5l-.94 2.06-2.06.94zm10 10l.94 2.06.94-2.06 2.06-.94-2.06-.94-.94-2.06-.94 2.06-2.06.94z\"/><path d=\"M17.41 7.96l-1.37-1.37c-.4-.4-.92-.59-1.43-.59-.52 0-1.04.2-1.43.59L10.3 9.45l-7.72 7.72c-.78.78-.78 2.05 0 2.83L4 21.41c.39.39.9.59 1.41.59.51 0 1.02-.2 1.41-.59l7.78-7.78 2.81-2.81c.8-.78.8-2.07 0-2.86zM5.41 20L4 18.59l7.72-7.72 1.47 1.35L5.41 20z\"/>\n",
              "  </svg>\n",
              "      </button>\n",
              "      \n",
              "  <style>\n",
              "    .colab-df-container {\n",
              "      display:flex;\n",
              "      flex-wrap:wrap;\n",
              "      gap: 12px;\n",
              "    }\n",
              "\n",
              "    .colab-df-convert {\n",
              "      background-color: #E8F0FE;\n",
              "      border: none;\n",
              "      border-radius: 50%;\n",
              "      cursor: pointer;\n",
              "      display: none;\n",
              "      fill: #1967D2;\n",
              "      height: 32px;\n",
              "      padding: 0 0 0 0;\n",
              "      width: 32px;\n",
              "    }\n",
              "\n",
              "    .colab-df-convert:hover {\n",
              "      background-color: #E2EBFA;\n",
              "      box-shadow: 0px 1px 2px rgba(60, 64, 67, 0.3), 0px 1px 3px 1px rgba(60, 64, 67, 0.15);\n",
              "      fill: #174EA6;\n",
              "    }\n",
              "\n",
              "    [theme=dark] .colab-df-convert {\n",
              "      background-color: #3B4455;\n",
              "      fill: #D2E3FC;\n",
              "    }\n",
              "\n",
              "    [theme=dark] .colab-df-convert:hover {\n",
              "      background-color: #434B5C;\n",
              "      box-shadow: 0px 1px 3px 1px rgba(0, 0, 0, 0.15);\n",
              "      filter: drop-shadow(0px 1px 2px rgba(0, 0, 0, 0.3));\n",
              "      fill: #FFFFFF;\n",
              "    }\n",
              "  </style>\n",
              "\n",
              "      <script>\n",
              "        const buttonEl =\n",
              "          document.querySelector('#df-4a58645d-cab2-45c2-89f2-b03a9239545d button.colab-df-convert');\n",
              "        buttonEl.style.display =\n",
              "          google.colab.kernel.accessAllowed ? 'block' : 'none';\n",
              "\n",
              "        async function convertToInteractive(key) {\n",
              "          const element = document.querySelector('#df-4a58645d-cab2-45c2-89f2-b03a9239545d');\n",
              "          const dataTable =\n",
              "            await google.colab.kernel.invokeFunction('convertToInteractive',\n",
              "                                                     [key], {});\n",
              "          if (!dataTable) return;\n",
              "\n",
              "          const docLinkHtml = 'Like what you see? Visit the ' +\n",
              "            '<a target=\"_blank\" href=https://colab.research.google.com/notebooks/data_table.ipynb>data table notebook</a>'\n",
              "            + ' to learn more about interactive tables.';\n",
              "          element.innerHTML = '';\n",
              "          dataTable['output_type'] = 'display_data';\n",
              "          await google.colab.output.renderOutput(dataTable, element);\n",
              "          const docLink = document.createElement('div');\n",
              "          docLink.innerHTML = docLinkHtml;\n",
              "          element.appendChild(docLink);\n",
              "        }\n",
              "      </script>\n",
              "    </div>\n",
              "  </div>\n",
              "  "
            ]
          },
          "metadata": {},
          "execution_count": 60
        }
      ]
    },
    {
      "cell_type": "markdown",
      "source": [
        "There are 133 records out of 7267 which where guessed wrong"
      ],
      "metadata": {
        "id": "9OpS2Tb_oKXF"
      }
    },
    {
      "cell_type": "code",
      "source": [
        "predict = pd.DataFrame({'Predict': random_forest_classifier.predict(X_test)})\n",
        "label = pd.DataFrame({'Label': y_test})\n",
        "res = X_test.join(label).join(predict)\n",
        "res[res['Predict'] != res['Label']]"
      ],
      "metadata": {
        "colab": {
          "base_uri": "https://localhost:8080/",
          "height": 520
        },
        "id": "i1aKd7hVgMgS",
        "outputId": "4b1ee597-ef77-44dc-ebb0-5dbfed68c6d7"
      },
      "execution_count": 55,
      "outputs": [
        {
          "output_type": "execute_result",
          "data": {
            "text/plain": [
              "      Average Packet Size  Flow Bytes/s  Max Packet Length  \\\n",
              "186              0.000000      0.000000                0.0   \n",
              "373              0.000000      0.000000                0.0   \n",
              "384            624.470588   2099.113097             4344.0   \n",
              "432              0.000000      0.000000                0.0   \n",
              "459            140.125000    220.306263              763.0   \n",
              "...                   ...           ...                ...   \n",
              "6923             0.000000      0.000000                0.0   \n",
              "7058             0.000000      0.000000                0.0   \n",
              "7062             0.000000      0.000000                0.0   \n",
              "7174             0.000000      0.000000                0.0   \n",
              "7246             0.000000      0.000000                0.0   \n",
              "\n",
              "      Fwd Packet Length Mean  Fwd IAT Min  Total Length of Fwd Packets  \\\n",
              "186                      0.0          0.0                          0.0   \n",
              "373                      0.0          0.0                          0.0   \n",
              "384                     73.6        192.0                        736.0   \n",
              "432                      0.0          0.0                          0.0   \n",
              "459                     89.5          4.0                        358.0   \n",
              "...                      ...          ...                          ...   \n",
              "6923                     0.0          0.0                          0.0   \n",
              "7058                     0.0          0.0                          0.0   \n",
              "7062                     0.0          0.0                          0.0   \n",
              "7174                     0.0          0.0                          0.0   \n",
              "7246                     0.0          0.0                          0.0   \n",
              "\n",
              "      Flow IAT Mean  Fwd Header Length  Fwd Packet Length Max   Fwd IAT Std  \\\n",
              "186         91.0000               32.0                    0.0  0.000000e+00   \n",
              "373         50.0000               32.0                    0.0  0.000000e+00   \n",
              "384     316085.8750              328.0                  395.0  1.650529e+06   \n",
              "432         35.0000               32.0                    0.0  0.000000e+00   \n",
              "459     726910.1429              136.0                  358.0  4.872589e+04   \n",
              "...             ...                ...                    ...           ...   \n",
              "6923        50.0000               32.0                    0.0  0.000000e+00   \n",
              "7058        93.0000               32.0                    0.0  0.000000e+00   \n",
              "7062        35.0000               32.0                    0.0  0.000000e+00   \n",
              "7174        81.0000               32.0                    0.0  0.000000e+00   \n",
              "7246        72.0000               32.0                    0.0  0.000000e+00   \n",
              "\n",
              "      Label  Predict  \n",
              "186       0        1  \n",
              "373       0        1  \n",
              "384       1        0  \n",
              "432       0        1  \n",
              "459       1        0  \n",
              "...     ...      ...  \n",
              "6923      0        1  \n",
              "7058      0        1  \n",
              "7062      0        1  \n",
              "7174      0        1  \n",
              "7246      0        1  \n",
              "\n",
              "[133 rows x 12 columns]"
            ],
            "text/html": [
              "\n",
              "  <div id=\"df-484ad756-7e04-4b02-9285-69adcc457489\">\n",
              "    <div class=\"colab-df-container\">\n",
              "      <div>\n",
              "<style scoped>\n",
              "    .dataframe tbody tr th:only-of-type {\n",
              "        vertical-align: middle;\n",
              "    }\n",
              "\n",
              "    .dataframe tbody tr th {\n",
              "        vertical-align: top;\n",
              "    }\n",
              "\n",
              "    .dataframe thead th {\n",
              "        text-align: right;\n",
              "    }\n",
              "</style>\n",
              "<table border=\"1\" class=\"dataframe\">\n",
              "  <thead>\n",
              "    <tr style=\"text-align: right;\">\n",
              "      <th></th>\n",
              "      <th>Average Packet Size</th>\n",
              "      <th>Flow Bytes/s</th>\n",
              "      <th>Max Packet Length</th>\n",
              "      <th>Fwd Packet Length Mean</th>\n",
              "      <th>Fwd IAT Min</th>\n",
              "      <th>Total Length of Fwd Packets</th>\n",
              "      <th>Flow IAT Mean</th>\n",
              "      <th>Fwd Header Length</th>\n",
              "      <th>Fwd Packet Length Max</th>\n",
              "      <th>Fwd IAT Std</th>\n",
              "      <th>Label</th>\n",
              "      <th>Predict</th>\n",
              "    </tr>\n",
              "  </thead>\n",
              "  <tbody>\n",
              "    <tr>\n",
              "      <th>186</th>\n",
              "      <td>0.000000</td>\n",
              "      <td>0.000000</td>\n",
              "      <td>0.0</td>\n",
              "      <td>0.0</td>\n",
              "      <td>0.0</td>\n",
              "      <td>0.0</td>\n",
              "      <td>91.0000</td>\n",
              "      <td>32.0</td>\n",
              "      <td>0.0</td>\n",
              "      <td>0.000000e+00</td>\n",
              "      <td>0</td>\n",
              "      <td>1</td>\n",
              "    </tr>\n",
              "    <tr>\n",
              "      <th>373</th>\n",
              "      <td>0.000000</td>\n",
              "      <td>0.000000</td>\n",
              "      <td>0.0</td>\n",
              "      <td>0.0</td>\n",
              "      <td>0.0</td>\n",
              "      <td>0.0</td>\n",
              "      <td>50.0000</td>\n",
              "      <td>32.0</td>\n",
              "      <td>0.0</td>\n",
              "      <td>0.000000e+00</td>\n",
              "      <td>0</td>\n",
              "      <td>1</td>\n",
              "    </tr>\n",
              "    <tr>\n",
              "      <th>384</th>\n",
              "      <td>624.470588</td>\n",
              "      <td>2099.113097</td>\n",
              "      <td>4344.0</td>\n",
              "      <td>73.6</td>\n",
              "      <td>192.0</td>\n",
              "      <td>736.0</td>\n",
              "      <td>316085.8750</td>\n",
              "      <td>328.0</td>\n",
              "      <td>395.0</td>\n",
              "      <td>1.650529e+06</td>\n",
              "      <td>1</td>\n",
              "      <td>0</td>\n",
              "    </tr>\n",
              "    <tr>\n",
              "      <th>432</th>\n",
              "      <td>0.000000</td>\n",
              "      <td>0.000000</td>\n",
              "      <td>0.0</td>\n",
              "      <td>0.0</td>\n",
              "      <td>0.0</td>\n",
              "      <td>0.0</td>\n",
              "      <td>35.0000</td>\n",
              "      <td>32.0</td>\n",
              "      <td>0.0</td>\n",
              "      <td>0.000000e+00</td>\n",
              "      <td>0</td>\n",
              "      <td>1</td>\n",
              "    </tr>\n",
              "    <tr>\n",
              "      <th>459</th>\n",
              "      <td>140.125000</td>\n",
              "      <td>220.306263</td>\n",
              "      <td>763.0</td>\n",
              "      <td>89.5</td>\n",
              "      <td>4.0</td>\n",
              "      <td>358.0</td>\n",
              "      <td>726910.1429</td>\n",
              "      <td>136.0</td>\n",
              "      <td>358.0</td>\n",
              "      <td>4.872589e+04</td>\n",
              "      <td>1</td>\n",
              "      <td>0</td>\n",
              "    </tr>\n",
              "    <tr>\n",
              "      <th>...</th>\n",
              "      <td>...</td>\n",
              "      <td>...</td>\n",
              "      <td>...</td>\n",
              "      <td>...</td>\n",
              "      <td>...</td>\n",
              "      <td>...</td>\n",
              "      <td>...</td>\n",
              "      <td>...</td>\n",
              "      <td>...</td>\n",
              "      <td>...</td>\n",
              "      <td>...</td>\n",
              "      <td>...</td>\n",
              "    </tr>\n",
              "    <tr>\n",
              "      <th>6923</th>\n",
              "      <td>0.000000</td>\n",
              "      <td>0.000000</td>\n",
              "      <td>0.0</td>\n",
              "      <td>0.0</td>\n",
              "      <td>0.0</td>\n",
              "      <td>0.0</td>\n",
              "      <td>50.0000</td>\n",
              "      <td>32.0</td>\n",
              "      <td>0.0</td>\n",
              "      <td>0.000000e+00</td>\n",
              "      <td>0</td>\n",
              "      <td>1</td>\n",
              "    </tr>\n",
              "    <tr>\n",
              "      <th>7058</th>\n",
              "      <td>0.000000</td>\n",
              "      <td>0.000000</td>\n",
              "      <td>0.0</td>\n",
              "      <td>0.0</td>\n",
              "      <td>0.0</td>\n",
              "      <td>0.0</td>\n",
              "      <td>93.0000</td>\n",
              "      <td>32.0</td>\n",
              "      <td>0.0</td>\n",
              "      <td>0.000000e+00</td>\n",
              "      <td>0</td>\n",
              "      <td>1</td>\n",
              "    </tr>\n",
              "    <tr>\n",
              "      <th>7062</th>\n",
              "      <td>0.000000</td>\n",
              "      <td>0.000000</td>\n",
              "      <td>0.0</td>\n",
              "      <td>0.0</td>\n",
              "      <td>0.0</td>\n",
              "      <td>0.0</td>\n",
              "      <td>35.0000</td>\n",
              "      <td>32.0</td>\n",
              "      <td>0.0</td>\n",
              "      <td>0.000000e+00</td>\n",
              "      <td>0</td>\n",
              "      <td>1</td>\n",
              "    </tr>\n",
              "    <tr>\n",
              "      <th>7174</th>\n",
              "      <td>0.000000</td>\n",
              "      <td>0.000000</td>\n",
              "      <td>0.0</td>\n",
              "      <td>0.0</td>\n",
              "      <td>0.0</td>\n",
              "      <td>0.0</td>\n",
              "      <td>81.0000</td>\n",
              "      <td>32.0</td>\n",
              "      <td>0.0</td>\n",
              "      <td>0.000000e+00</td>\n",
              "      <td>0</td>\n",
              "      <td>1</td>\n",
              "    </tr>\n",
              "    <tr>\n",
              "      <th>7246</th>\n",
              "      <td>0.000000</td>\n",
              "      <td>0.000000</td>\n",
              "      <td>0.0</td>\n",
              "      <td>0.0</td>\n",
              "      <td>0.0</td>\n",
              "      <td>0.0</td>\n",
              "      <td>72.0000</td>\n",
              "      <td>32.0</td>\n",
              "      <td>0.0</td>\n",
              "      <td>0.000000e+00</td>\n",
              "      <td>0</td>\n",
              "      <td>1</td>\n",
              "    </tr>\n",
              "  </tbody>\n",
              "</table>\n",
              "<p>133 rows × 12 columns</p>\n",
              "</div>\n",
              "      <button class=\"colab-df-convert\" onclick=\"convertToInteractive('df-484ad756-7e04-4b02-9285-69adcc457489')\"\n",
              "              title=\"Convert this dataframe to an interactive table.\"\n",
              "              style=\"display:none;\">\n",
              "        \n",
              "  <svg xmlns=\"http://www.w3.org/2000/svg\" height=\"24px\"viewBox=\"0 0 24 24\"\n",
              "       width=\"24px\">\n",
              "    <path d=\"M0 0h24v24H0V0z\" fill=\"none\"/>\n",
              "    <path d=\"M18.56 5.44l.94 2.06.94-2.06 2.06-.94-2.06-.94-.94-2.06-.94 2.06-2.06.94zm-11 1L8.5 8.5l.94-2.06 2.06-.94-2.06-.94L8.5 2.5l-.94 2.06-2.06.94zm10 10l.94 2.06.94-2.06 2.06-.94-2.06-.94-.94-2.06-.94 2.06-2.06.94z\"/><path d=\"M17.41 7.96l-1.37-1.37c-.4-.4-.92-.59-1.43-.59-.52 0-1.04.2-1.43.59L10.3 9.45l-7.72 7.72c-.78.78-.78 2.05 0 2.83L4 21.41c.39.39.9.59 1.41.59.51 0 1.02-.2 1.41-.59l7.78-7.78 2.81-2.81c.8-.78.8-2.07 0-2.86zM5.41 20L4 18.59l7.72-7.72 1.47 1.35L5.41 20z\"/>\n",
              "  </svg>\n",
              "      </button>\n",
              "      \n",
              "  <style>\n",
              "    .colab-df-container {\n",
              "      display:flex;\n",
              "      flex-wrap:wrap;\n",
              "      gap: 12px;\n",
              "    }\n",
              "\n",
              "    .colab-df-convert {\n",
              "      background-color: #E8F0FE;\n",
              "      border: none;\n",
              "      border-radius: 50%;\n",
              "      cursor: pointer;\n",
              "      display: none;\n",
              "      fill: #1967D2;\n",
              "      height: 32px;\n",
              "      padding: 0 0 0 0;\n",
              "      width: 32px;\n",
              "    }\n",
              "\n",
              "    .colab-df-convert:hover {\n",
              "      background-color: #E2EBFA;\n",
              "      box-shadow: 0px 1px 2px rgba(60, 64, 67, 0.3), 0px 1px 3px 1px rgba(60, 64, 67, 0.15);\n",
              "      fill: #174EA6;\n",
              "    }\n",
              "\n",
              "    [theme=dark] .colab-df-convert {\n",
              "      background-color: #3B4455;\n",
              "      fill: #D2E3FC;\n",
              "    }\n",
              "\n",
              "    [theme=dark] .colab-df-convert:hover {\n",
              "      background-color: #434B5C;\n",
              "      box-shadow: 0px 1px 3px 1px rgba(0, 0, 0, 0.15);\n",
              "      filter: drop-shadow(0px 1px 2px rgba(0, 0, 0, 0.3));\n",
              "      fill: #FFFFFF;\n",
              "    }\n",
              "  </style>\n",
              "\n",
              "      <script>\n",
              "        const buttonEl =\n",
              "          document.querySelector('#df-484ad756-7e04-4b02-9285-69adcc457489 button.colab-df-convert');\n",
              "        buttonEl.style.display =\n",
              "          google.colab.kernel.accessAllowed ? 'block' : 'none';\n",
              "\n",
              "        async function convertToInteractive(key) {\n",
              "          const element = document.querySelector('#df-484ad756-7e04-4b02-9285-69adcc457489');\n",
              "          const dataTable =\n",
              "            await google.colab.kernel.invokeFunction('convertToInteractive',\n",
              "                                                     [key], {});\n",
              "          if (!dataTable) return;\n",
              "\n",
              "          const docLinkHtml = 'Like what you see? Visit the ' +\n",
              "            '<a target=\"_blank\" href=https://colab.research.google.com/notebooks/data_table.ipynb>data table notebook</a>'\n",
              "            + ' to learn more about interactive tables.';\n",
              "          element.innerHTML = '';\n",
              "          dataTable['output_type'] = 'display_data';\n",
              "          await google.colab.output.renderOutput(dataTable, element);\n",
              "          const docLink = document.createElement('div');\n",
              "          docLink.innerHTML = docLinkHtml;\n",
              "          element.appendChild(docLink);\n",
              "        }\n",
              "      </script>\n",
              "    </div>\n",
              "  </div>\n",
              "  "
            ]
          },
          "metadata": {},
          "execution_count": 55
        }
      ]
    }
  ]
}