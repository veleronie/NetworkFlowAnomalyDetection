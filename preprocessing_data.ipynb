{
  "cells": [
    {
      "cell_type": "markdown",
      "metadata": {
        "id": "view-in-github",
        "colab_type": "text"
      },
      "source": [
        "<a href=\"https://colab.research.google.com/github/veleronie/NetworkFlowAnomalyDetection/blob/main/preprocessing_data.ipynb\" target=\"_parent\"><img src=\"https://colab.research.google.com/assets/colab-badge.svg\" alt=\"Open In Colab\"/></a>"
      ]
    },
    {
      "cell_type": "code",
      "execution_count": 1,
      "metadata": {
        "colab": {
          "base_uri": "https://localhost:8080/"
        },
        "id": "bHizwaleD_s7",
        "outputId": "236b3490-6d3f-4bf5-d8d6-a5a416ea3c22"
      },
      "outputs": [
        {
          "output_type": "execute_result",
          "data": {
            "text/plain": [
              "['Monday-WorkingHours.pcap_ISCX.csv',\n",
              " 'Wednesday-workingHours.pcap_ISCX.csv',\n",
              " 'Tuesday-WorkingHours.pcap_ISCX.csv',\n",
              " 'Thursday-WorkingHours-Morning-WebAttacks.pcap_ISCX.csv',\n",
              " 'Friday-WorkingHours-Afternoon-PortScan.pcap_ISCX.csv',\n",
              " 'Thursday-WorkingHours-Afternoon-Infilteration.pcap_ISCX.csv',\n",
              " 'Friday-WorkingHours-Morning.pcap_ISCX.csv',\n",
              " 'Friday-WorkingHours-Afternoon-DDos.pcap_ISCX.csv']"
            ]
          },
          "metadata": {},
          "execution_count": 1
        }
      ],
      "source": [
        "import os\n",
        "import time\n",
        "import pandas as pd\n",
        "import numpy as np\n",
        "import pickle\n",
        "from sklearn import preprocessing\n",
        "\n",
        "path = os.getcwd()\n",
        "path_to_datasets = r'/drive/MyDrive/AnomalyDetection/IDS2017/TrafficLabelling'\n",
        "all_files = os.listdir(path + path_to_datasets)    \n",
        "csv_files = list(filter(lambda f: f.endswith('.csv'), all_files))\n",
        "csv_files"
      ]
    },
    {
      "cell_type": "markdown",
      "metadata": {
        "id": "c1_70Z1uJG_4"
      },
      "source": [
        "The aim of this file is to make the csv files clean from any errors: drop missing/meaningless values, handling specific character encodings, etc."
      ]
    },
    {
      "cell_type": "code",
      "execution_count": 2,
      "metadata": {
        "id": "ehWrImk_LuKK",
        "colab": {
          "base_uri": "https://localhost:8080/",
          "height": 421
        },
        "outputId": "f4aca1d1-e3c9-4351-e382-fa6046f4470e"
      },
      "outputs": [
        {
          "output_type": "execute_result",
          "data": {
            "text/plain": [
              "                                  Flow ID      Source IP   Source Port  \\\n",
              "0  192.168.10.14-209.48.71.168-49459-80-6  192.168.10.14         49459   \n",
              "1  192.168.10.3-192.168.10.17-389-49453-6  192.168.10.17         49453   \n",
              "2   192.168.10.3-192.168.10.17-88-46124-6  192.168.10.17         46124   \n",
              "3  192.168.10.3-192.168.10.17-389-49454-6  192.168.10.17         49454   \n",
              "4   192.168.10.3-192.168.10.17-88-46126-6  192.168.10.17         46126   \n",
              "\n",
              "   Destination IP   Destination Port   Protocol      Timestamp  \\\n",
              "0   209.48.71.168                 80          6  5/7/2017 8:42   \n",
              "1    192.168.10.3                389          6  5/7/2017 8:42   \n",
              "2    192.168.10.3                 88          6  5/7/2017 8:42   \n",
              "3    192.168.10.3                389          6  5/7/2017 8:42   \n",
              "4    192.168.10.3                 88          6  5/7/2017 8:42   \n",
              "\n",
              "    Flow Duration   Total Fwd Packets   Total Backward Packets  ...  \\\n",
              "0           38308                   1                        1  ...   \n",
              "1             479                  11                        5  ...   \n",
              "2            1095                  10                        6  ...   \n",
              "3           15206                  17                       12  ...   \n",
              "4            1092                   9                        6  ...   \n",
              "\n",
              "    min_seg_size_forward  Active Mean   Active Std   Active Max   Active Min  \\\n",
              "0                     20          0.0          0.0          0.0          0.0   \n",
              "1                     32          0.0          0.0          0.0          0.0   \n",
              "2                     32          0.0          0.0          0.0          0.0   \n",
              "3                     32          0.0          0.0          0.0          0.0   \n",
              "4                     32          0.0          0.0          0.0          0.0   \n",
              "\n",
              "   Idle Mean   Idle Std   Idle Max   Idle Min   Label  \n",
              "0        0.0        0.0        0.0        0.0  BENIGN  \n",
              "1        0.0        0.0        0.0        0.0  BENIGN  \n",
              "2        0.0        0.0        0.0        0.0  BENIGN  \n",
              "3        0.0        0.0        0.0        0.0  BENIGN  \n",
              "4        0.0        0.0        0.0        0.0  BENIGN  \n",
              "\n",
              "[5 rows x 85 columns]"
            ],
            "text/html": [
              "\n",
              "  <div id=\"df-e1cce8f7-a88c-4aa1-bb79-90327a81de98\">\n",
              "    <div class=\"colab-df-container\">\n",
              "      <div>\n",
              "<style scoped>\n",
              "    .dataframe tbody tr th:only-of-type {\n",
              "        vertical-align: middle;\n",
              "    }\n",
              "\n",
              "    .dataframe tbody tr th {\n",
              "        vertical-align: top;\n",
              "    }\n",
              "\n",
              "    .dataframe thead th {\n",
              "        text-align: right;\n",
              "    }\n",
              "</style>\n",
              "<table border=\"1\" class=\"dataframe\">\n",
              "  <thead>\n",
              "    <tr style=\"text-align: right;\">\n",
              "      <th></th>\n",
              "      <th>Flow ID</th>\n",
              "      <th>Source IP</th>\n",
              "      <th>Source Port</th>\n",
              "      <th>Destination IP</th>\n",
              "      <th>Destination Port</th>\n",
              "      <th>Protocol</th>\n",
              "      <th>Timestamp</th>\n",
              "      <th>Flow Duration</th>\n",
              "      <th>Total Fwd Packets</th>\n",
              "      <th>Total Backward Packets</th>\n",
              "      <th>...</th>\n",
              "      <th>min_seg_size_forward</th>\n",
              "      <th>Active Mean</th>\n",
              "      <th>Active Std</th>\n",
              "      <th>Active Max</th>\n",
              "      <th>Active Min</th>\n",
              "      <th>Idle Mean</th>\n",
              "      <th>Idle Std</th>\n",
              "      <th>Idle Max</th>\n",
              "      <th>Idle Min</th>\n",
              "      <th>Label</th>\n",
              "    </tr>\n",
              "  </thead>\n",
              "  <tbody>\n",
              "    <tr>\n",
              "      <th>0</th>\n",
              "      <td>192.168.10.14-209.48.71.168-49459-80-6</td>\n",
              "      <td>192.168.10.14</td>\n",
              "      <td>49459</td>\n",
              "      <td>209.48.71.168</td>\n",
              "      <td>80</td>\n",
              "      <td>6</td>\n",
              "      <td>5/7/2017 8:42</td>\n",
              "      <td>38308</td>\n",
              "      <td>1</td>\n",
              "      <td>1</td>\n",
              "      <td>...</td>\n",
              "      <td>20</td>\n",
              "      <td>0.0</td>\n",
              "      <td>0.0</td>\n",
              "      <td>0.0</td>\n",
              "      <td>0.0</td>\n",
              "      <td>0.0</td>\n",
              "      <td>0.0</td>\n",
              "      <td>0.0</td>\n",
              "      <td>0.0</td>\n",
              "      <td>BENIGN</td>\n",
              "    </tr>\n",
              "    <tr>\n",
              "      <th>1</th>\n",
              "      <td>192.168.10.3-192.168.10.17-389-49453-6</td>\n",
              "      <td>192.168.10.17</td>\n",
              "      <td>49453</td>\n",
              "      <td>192.168.10.3</td>\n",
              "      <td>389</td>\n",
              "      <td>6</td>\n",
              "      <td>5/7/2017 8:42</td>\n",
              "      <td>479</td>\n",
              "      <td>11</td>\n",
              "      <td>5</td>\n",
              "      <td>...</td>\n",
              "      <td>32</td>\n",
              "      <td>0.0</td>\n",
              "      <td>0.0</td>\n",
              "      <td>0.0</td>\n",
              "      <td>0.0</td>\n",
              "      <td>0.0</td>\n",
              "      <td>0.0</td>\n",
              "      <td>0.0</td>\n",
              "      <td>0.0</td>\n",
              "      <td>BENIGN</td>\n",
              "    </tr>\n",
              "    <tr>\n",
              "      <th>2</th>\n",
              "      <td>192.168.10.3-192.168.10.17-88-46124-6</td>\n",
              "      <td>192.168.10.17</td>\n",
              "      <td>46124</td>\n",
              "      <td>192.168.10.3</td>\n",
              "      <td>88</td>\n",
              "      <td>6</td>\n",
              "      <td>5/7/2017 8:42</td>\n",
              "      <td>1095</td>\n",
              "      <td>10</td>\n",
              "      <td>6</td>\n",
              "      <td>...</td>\n",
              "      <td>32</td>\n",
              "      <td>0.0</td>\n",
              "      <td>0.0</td>\n",
              "      <td>0.0</td>\n",
              "      <td>0.0</td>\n",
              "      <td>0.0</td>\n",
              "      <td>0.0</td>\n",
              "      <td>0.0</td>\n",
              "      <td>0.0</td>\n",
              "      <td>BENIGN</td>\n",
              "    </tr>\n",
              "    <tr>\n",
              "      <th>3</th>\n",
              "      <td>192.168.10.3-192.168.10.17-389-49454-6</td>\n",
              "      <td>192.168.10.17</td>\n",
              "      <td>49454</td>\n",
              "      <td>192.168.10.3</td>\n",
              "      <td>389</td>\n",
              "      <td>6</td>\n",
              "      <td>5/7/2017 8:42</td>\n",
              "      <td>15206</td>\n",
              "      <td>17</td>\n",
              "      <td>12</td>\n",
              "      <td>...</td>\n",
              "      <td>32</td>\n",
              "      <td>0.0</td>\n",
              "      <td>0.0</td>\n",
              "      <td>0.0</td>\n",
              "      <td>0.0</td>\n",
              "      <td>0.0</td>\n",
              "      <td>0.0</td>\n",
              "      <td>0.0</td>\n",
              "      <td>0.0</td>\n",
              "      <td>BENIGN</td>\n",
              "    </tr>\n",
              "    <tr>\n",
              "      <th>4</th>\n",
              "      <td>192.168.10.3-192.168.10.17-88-46126-6</td>\n",
              "      <td>192.168.10.17</td>\n",
              "      <td>46126</td>\n",
              "      <td>192.168.10.3</td>\n",
              "      <td>88</td>\n",
              "      <td>6</td>\n",
              "      <td>5/7/2017 8:42</td>\n",
              "      <td>1092</td>\n",
              "      <td>9</td>\n",
              "      <td>6</td>\n",
              "      <td>...</td>\n",
              "      <td>32</td>\n",
              "      <td>0.0</td>\n",
              "      <td>0.0</td>\n",
              "      <td>0.0</td>\n",
              "      <td>0.0</td>\n",
              "      <td>0.0</td>\n",
              "      <td>0.0</td>\n",
              "      <td>0.0</td>\n",
              "      <td>0.0</td>\n",
              "      <td>BENIGN</td>\n",
              "    </tr>\n",
              "  </tbody>\n",
              "</table>\n",
              "<p>5 rows × 85 columns</p>\n",
              "</div>\n",
              "      <button class=\"colab-df-convert\" onclick=\"convertToInteractive('df-e1cce8f7-a88c-4aa1-bb79-90327a81de98')\"\n",
              "              title=\"Convert this dataframe to an interactive table.\"\n",
              "              style=\"display:none;\">\n",
              "        \n",
              "  <svg xmlns=\"http://www.w3.org/2000/svg\" height=\"24px\"viewBox=\"0 0 24 24\"\n",
              "       width=\"24px\">\n",
              "    <path d=\"M0 0h24v24H0V0z\" fill=\"none\"/>\n",
              "    <path d=\"M18.56 5.44l.94 2.06.94-2.06 2.06-.94-2.06-.94-.94-2.06-.94 2.06-2.06.94zm-11 1L8.5 8.5l.94-2.06 2.06-.94-2.06-.94L8.5 2.5l-.94 2.06-2.06.94zm10 10l.94 2.06.94-2.06 2.06-.94-2.06-.94-.94-2.06-.94 2.06-2.06.94z\"/><path d=\"M17.41 7.96l-1.37-1.37c-.4-.4-.92-.59-1.43-.59-.52 0-1.04.2-1.43.59L10.3 9.45l-7.72 7.72c-.78.78-.78 2.05 0 2.83L4 21.41c.39.39.9.59 1.41.59.51 0 1.02-.2 1.41-.59l7.78-7.78 2.81-2.81c.8-.78.8-2.07 0-2.86zM5.41 20L4 18.59l7.72-7.72 1.47 1.35L5.41 20z\"/>\n",
              "  </svg>\n",
              "      </button>\n",
              "      \n",
              "  <style>\n",
              "    .colab-df-container {\n",
              "      display:flex;\n",
              "      flex-wrap:wrap;\n",
              "      gap: 12px;\n",
              "    }\n",
              "\n",
              "    .colab-df-convert {\n",
              "      background-color: #E8F0FE;\n",
              "      border: none;\n",
              "      border-radius: 50%;\n",
              "      cursor: pointer;\n",
              "      display: none;\n",
              "      fill: #1967D2;\n",
              "      height: 32px;\n",
              "      padding: 0 0 0 0;\n",
              "      width: 32px;\n",
              "    }\n",
              "\n",
              "    .colab-df-convert:hover {\n",
              "      background-color: #E2EBFA;\n",
              "      box-shadow: 0px 1px 2px rgba(60, 64, 67, 0.3), 0px 1px 3px 1px rgba(60, 64, 67, 0.15);\n",
              "      fill: #174EA6;\n",
              "    }\n",
              "\n",
              "    [theme=dark] .colab-df-convert {\n",
              "      background-color: #3B4455;\n",
              "      fill: #D2E3FC;\n",
              "    }\n",
              "\n",
              "    [theme=dark] .colab-df-convert:hover {\n",
              "      background-color: #434B5C;\n",
              "      box-shadow: 0px 1px 3px 1px rgba(0, 0, 0, 0.15);\n",
              "      filter: drop-shadow(0px 1px 2px rgba(0, 0, 0, 0.3));\n",
              "      fill: #FFFFFF;\n",
              "    }\n",
              "  </style>\n",
              "\n",
              "      <script>\n",
              "        const buttonEl =\n",
              "          document.querySelector('#df-e1cce8f7-a88c-4aa1-bb79-90327a81de98 button.colab-df-convert');\n",
              "        buttonEl.style.display =\n",
              "          google.colab.kernel.accessAllowed ? 'block' : 'none';\n",
              "\n",
              "        async function convertToInteractive(key) {\n",
              "          const element = document.querySelector('#df-e1cce8f7-a88c-4aa1-bb79-90327a81de98');\n",
              "          const dataTable =\n",
              "            await google.colab.kernel.invokeFunction('convertToInteractive',\n",
              "                                                     [key], {});\n",
              "          if (!dataTable) return;\n",
              "\n",
              "          const docLinkHtml = 'Like what you see? Visit the ' +\n",
              "            '<a target=\"_blank\" href=https://colab.research.google.com/notebooks/data_table.ipynb>data table notebook</a>'\n",
              "            + ' to learn more about interactive tables.';\n",
              "          element.innerHTML = '';\n",
              "          dataTable['output_type'] = 'display_data';\n",
              "          await google.colab.output.renderOutput(dataTable, element);\n",
              "          const docLink = document.createElement('div');\n",
              "          docLink.innerHTML = docLinkHtml;\n",
              "          element.appendChild(docLink);\n",
              "        }\n",
              "      </script>\n",
              "    </div>\n",
              "  </div>\n",
              "  "
            ]
          },
          "metadata": {},
          "execution_count": 2
        }
      ],
      "source": [
        "with open('/content/drive/MyDrive/AnomalyDetection/pickled_wednesday_data.pkl', 'rb') as f:\n",
        "  test_file = pickle.load(f)\n",
        "test_file.head()"
      ]
    },
    {
      "cell_type": "code",
      "execution_count": 3,
      "metadata": {
        "colab": {
          "base_uri": "https://localhost:8080/"
        },
        "id": "HBGXtVvCNivM",
        "outputId": "f564a4df-a7b0-467b-86f3-c1d5b55dcf5e"
      },
      "outputs": [
        {
          "output_type": "stream",
          "name": "stdout",
          "text": [
            "{'Bwd Packet Length Max', 'Down/Up Ratio', 'Average Packet Size', 'Total Fwd Packets', 'Avg Bwd Segment Size', 'min_seg_size_forward', 'Label', 'Idle Min', 'Flow IAT Max', 'Fwd Header Length', 'Packet Length Mean', 'Source IP', 'Fwd URG Flags', 'Fwd Packets/s', 'Fwd Packet Length Min', 'Bwd URG Flags', 'Fwd Packet Length Max', 'Fwd IAT Min', 'Bwd Avg Bulk Rate', 'Active Std', 'Protocol', 'Idle Max', 'Flow Packets/s', 'Init_Win_bytes_backward', 'act_data_pkt_fwd', 'Flow Duration', 'Min Packet Length', 'Bwd IAT Std', 'Bwd Packet Length Std', 'Avg Fwd Segment Size', 'Active Mean', 'Bwd IAT Min', 'Bwd IAT Mean', 'URG Flag Count', 'Fwd IAT Std', 'Bwd Packet Length Mean', 'Bwd IAT Max', 'Destination IP', 'Fwd PSH Flags', 'Idle Std', 'SYN Flag Count', 'ECE Flag Count', 'Bwd Packet Length Min', 'Fwd Avg Bytes/Bulk', 'Destination Port', 'FIN Flag Count', 'Total Length of Fwd Packets', 'Fwd Header Length.1', 'Packet Length Variance', 'Fwd Packet Length Std', 'Subflow Fwd Bytes', 'Flow Bytes/s', 'Max Packet Length', 'Bwd Avg Bytes/Bulk', 'Bwd Avg Packets/Bulk', 'Bwd Packets/s', 'Timestamp', 'Flow IAT Std', 'Fwd IAT Max', 'Packet Length Std', 'PSH Flag Count', 'Subflow Fwd Packets', 'Fwd IAT Mean', 'Source Port', 'Fwd Packet Length Mean', 'Bwd PSH Flags', 'Fwd Avg Bulk Rate', 'Flow IAT Mean', 'ACK Flag Count', 'Flow ID', 'Fwd Avg Packets/Bulk', 'Active Max', 'Idle Mean', 'RST Flag Count', 'Active Min', 'Flow IAT Min', 'Bwd IAT Total', 'Total Backward Packets', 'Fwd IAT Total', 'Bwd Header Length', 'Total Length of Bwd Packets', 'CWE Flag Count', 'Init_Win_bytes_forward', 'Subflow Bwd Bytes', 'Subflow Bwd Packets'}\n"
          ]
        }
      ],
      "source": [
        "test_file.columns = test_file.columns.str.strip()\n",
        "main_labels = set(test_file.columns)\n",
        "print(main_labels)\n",
        "labels_with_missing_values = []\n",
        "for label in main_labels:\n",
        "  if test_file[label].isnull().sum() > 0:\n",
        "    labels_with_missing_values.append(label)"
      ]
    },
    {
      "cell_type": "code",
      "execution_count": 4,
      "metadata": {
        "id": "_xWX5n69RwoE"
      },
      "outputs": [],
      "source": [
        "test_file[labels_with_missing_values[0]].fillna(0, inplace = True)\n",
        "numeric_columns = test_file.select_dtypes(include=np.number).columns"
      ]
    },
    {
      "cell_type": "code",
      "source": [
        "for column in numeric_columns:\n",
        "  if np.isin([-np.inf, np.inf], test_file[column]).any():\n",
        "      test_file[column].replace([np.inf, -np.inf], -1, inplace=True)  #replacing inf values with -1"
      ],
      "metadata": {
        "id": "bwQLH-sj7Oli"
      },
      "execution_count": 5,
      "outputs": []
    },
    {
      "cell_type": "code",
      "source": [
        "non_numeric_columns = set(main_labels).difference(set(numeric_columns))\n",
        "for column in non_numeric_columns:\n",
        "  print(test_file[column][:5])"
      ],
      "metadata": {
        "colab": {
          "base_uri": "https://localhost:8080/"
        },
        "id": "KPJeewtZOJgs",
        "outputId": "cc234bc7-a718-4ae6-e090-dcad69108066"
      },
      "execution_count": 6,
      "outputs": [
        {
          "output_type": "stream",
          "name": "stdout",
          "text": [
            "0    192.168.10.14-209.48.71.168-49459-80-6\n",
            "1    192.168.10.3-192.168.10.17-389-49453-6\n",
            "2     192.168.10.3-192.168.10.17-88-46124-6\n",
            "3    192.168.10.3-192.168.10.17-389-49454-6\n",
            "4     192.168.10.3-192.168.10.17-88-46126-6\n",
            "Name: Flow ID, dtype: object\n",
            "0    BENIGN\n",
            "1    BENIGN\n",
            "2    BENIGN\n",
            "3    BENIGN\n",
            "4    BENIGN\n",
            "Name: Label, dtype: object\n",
            "0    5/7/2017 8:42\n",
            "1    5/7/2017 8:42\n",
            "2    5/7/2017 8:42\n",
            "3    5/7/2017 8:42\n",
            "4    5/7/2017 8:42\n",
            "Name: Timestamp, dtype: object\n",
            "0    192.168.10.14\n",
            "1    192.168.10.17\n",
            "2    192.168.10.17\n",
            "3    192.168.10.17\n",
            "4    192.168.10.17\n",
            "Name: Source IP, dtype: object\n",
            "0    209.48.71.168\n",
            "1     192.168.10.3\n",
            "2     192.168.10.3\n",
            "3     192.168.10.3\n",
            "4     192.168.10.3\n",
            "Name: Destination IP, dtype: object\n"
          ]
        }
      ]
    },
    {
      "cell_type": "code",
      "source": [
        "labelencoder_X = preprocessing.LabelEncoder()\n",
        "non_numeric_columns = set(main_labels).difference(set(numeric_columns))\n",
        "print(test_file['Label'].unique())\n",
        "non_numeric_columns.remove('Label')\n",
        "for column in non_numeric_columns:\n",
        "  series = labelencoder_X.fit_transform(test_file[column])"
      ],
      "metadata": {
        "colab": {
          "base_uri": "https://localhost:8080/"
        },
        "id": "gkf9wZ2oEDLp",
        "outputId": "7decbcf2-5d50-44a3-94f7-a84a3297c124"
      },
      "execution_count": 7,
      "outputs": [
        {
          "output_type": "stream",
          "name": "stdout",
          "text": [
            "['BENIGN' 'DoS slowloris' 'DoS Slowhttptest' 'DoS Hulk' 'DoS GoldenEye'\n",
            " 'Heartbleed']\n"
          ]
        }
      ]
    },
    {
      "cell_type": "markdown",
      "source": [
        "\n",
        "\n",
        "```\n",
        "for i in range(len(csv_files)):\n",
        "  df = pd.read_csv(csv_files[i])\n",
        "  df.columns = df.columns.str.strip()\n",
        "  main_features = set(df.columns)\n",
        "  for feature in main_features:\n",
        "    if df[feature].isnull().sum() > 0:\n",
        "      df[feature].fillna(0, inplace = True)\n",
        "  numeric_columns = set(df.select_dtypes(include=np.number).columns)\n",
        "  for column in numeric_columns:\n",
        "    if np.isin([-np.inf, np.inf], df[feature]).any():\n",
        "      df[column].replace([np.inf, -np.inf], -1, inplace=True)\n",
        "  non_numeric_columns = main_features.difference(numeric_columns)\n",
        "  for column in non_numeric_columns:\n",
        "    df[column].str.replace('–','-')\n",
        "\n",
        "  labelencoder = preprocessing.LabelEncoder()\n",
        "  non_numeric_columns.remove('Label')\n",
        "  non_numeric_columns = main_features.difference(numeric_columns)\n",
        "  non_numeric_columns.remove('Label')\n",
        "  for column in non_numeric_columns:\n",
        "    df[column] = labelencoder_X.fit_transform(df[column])\n",
        "```\n",
        "\n"
      ],
      "metadata": {
        "id": "FqHeLI2U07qR"
      }
    },
    {
      "cell_type": "markdown",
      "source": [
        "\n",
        "\n",
        "```\n",
        "for i in range(len(csv_files)):\n",
        "  with open('{}.pkl'.format(i), 'wb') as f:\n",
        "    pickle.dump(pd.read_csv(csv_files[i], f))\n",
        "    \n",
        "```\n",
        "\n"
      ],
      "metadata": {
        "id": "7kE_w1Gy09kq"
      }
    }
  ],
  "metadata": {
    "colab": {
      "provenance": [],
      "mount_file_id": "16rWfOGbrLo-bGkS62LoTxdZdZ3VM8eI-",
      "authorship_tag": "ABX9TyMeZhQNxXFhbwKABrcfcURC",
      "include_colab_link": true
    },
    "kernelspec": {
      "display_name": "Python 3",
      "name": "python3"
    },
    "language_info": {
      "name": "python"
    }
  },
  "nbformat": 4,
  "nbformat_minor": 0
}